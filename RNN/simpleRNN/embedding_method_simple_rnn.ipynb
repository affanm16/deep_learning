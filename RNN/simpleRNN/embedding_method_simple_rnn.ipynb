{
  "nbformat": 4,
  "nbformat_minor": 0,
  "metadata": {
    "colab": {
      "provenance": [],
      "gpuType": "T4"
    },
    "kernelspec": {
      "name": "python3",
      "display_name": "Python 3"
    },
    "language_info": {
      "name": "python"
    },
    "accelerator": "GPU"
  },
  "cells": [
    {
      "cell_type": "code",
      "execution_count": 1,
      "metadata": {
        "id": "vR6C9i-fyLvG"
      },
      "outputs": [],
      "source": [
        "docs = [\"long live democracy\",\n",
        "    \"freedom is essential\",\n",
        "    \"love conquers hate\",\n",
        "    \"unity in diversity\",\n",
        "    \"work hard play hard\",\n",
        "    \"dream big achieve big\",\n",
        "    \"education for all\",\n",
        "    \"science and innovation\",\n",
        "    \"health is wealth\",\n",
        "    \"nature's beauty\",\n",
        "    \"never give up\",\n",
        "    \"live and let live\",\n",
        "    \"time heals wounds\",\n",
        "    \"practice makes perfect\",\n",
        "    \"every cloud has a silver lining\",]"
      ]
    },
    {
      "cell_type": "code",
      "source": [
        "from keras.preprocessing.text import Tokenizer\n",
        "tokenizer = Tokenizer()"
      ],
      "metadata": {
        "id": "xRzvJNh1mRQW"
      },
      "execution_count": 2,
      "outputs": []
    },
    {
      "cell_type": "code",
      "source": [
        "tokenizer.fit_on_texts(docs)"
      ],
      "metadata": {
        "id": "2IhkPg6YmRYT"
      },
      "execution_count": 3,
      "outputs": []
    },
    {
      "cell_type": "code",
      "source": [
        "len(tokenizer.word_index)"
      ],
      "metadata": {
        "colab": {
          "base_uri": "https://localhost:8080/"
        },
        "id": "dP5g_Tmin4AG",
        "outputId": "94048796-aff8-4bf8-8836-069052ce3311"
      },
      "execution_count": 4,
      "outputs": [
        {
          "output_type": "execute_result",
          "data": {
            "text/plain": [
              "44"
            ]
          },
          "metadata": {},
          "execution_count": 4
        }
      ]
    },
    {
      "cell_type": "code",
      "source": [
        "sequences = tokenizer.texts_to_sequences(docs)\n",
        "sequences"
      ],
      "metadata": {
        "colab": {
          "base_uri": "https://localhost:8080/"
        },
        "id": "lOv8NrFFmRcE",
        "outputId": "2f44a94e-e18a-4e77-907a-ddeba79f2773"
      },
      "execution_count": 5,
      "outputs": [
        {
          "output_type": "execute_result",
          "data": {
            "text/plain": [
              "[[6, 1, 7],\n",
              " [8, 2, 9],\n",
              " [10, 11, 12],\n",
              " [13, 14, 15],\n",
              " [16, 3, 17, 3],\n",
              " [18, 4, 19, 4],\n",
              " [20, 21, 22],\n",
              " [23, 5, 24],\n",
              " [25, 2, 26],\n",
              " [27, 28],\n",
              " [29, 30, 31],\n",
              " [1, 5, 32, 1],\n",
              " [33, 34, 35],\n",
              " [36, 37, 38],\n",
              " [39, 40, 41, 42, 43, 44]]"
            ]
          },
          "metadata": {},
          "execution_count": 5
        }
      ]
    },
    {
      "cell_type": "code",
      "source": [
        "from keras.utils import pad_sequences\n",
        "sequences = pad_sequences(sequences,padding='post')\n",
        "sequences"
      ],
      "metadata": {
        "colab": {
          "base_uri": "https://localhost:8080/"
        },
        "id": "KG1RqcLnmRkA",
        "outputId": "91c9c197-5a39-49b1-bae4-033b9d73ba25"
      },
      "execution_count": 6,
      "outputs": [
        {
          "output_type": "execute_result",
          "data": {
            "text/plain": [
              "array([[ 6,  1,  7,  0,  0,  0],\n",
              "       [ 8,  2,  9,  0,  0,  0],\n",
              "       [10, 11, 12,  0,  0,  0],\n",
              "       [13, 14, 15,  0,  0,  0],\n",
              "       [16,  3, 17,  3,  0,  0],\n",
              "       [18,  4, 19,  4,  0,  0],\n",
              "       [20, 21, 22,  0,  0,  0],\n",
              "       [23,  5, 24,  0,  0,  0],\n",
              "       [25,  2, 26,  0,  0,  0],\n",
              "       [27, 28,  0,  0,  0,  0],\n",
              "       [29, 30, 31,  0,  0,  0],\n",
              "       [ 1,  5, 32,  1,  0,  0],\n",
              "       [33, 34, 35,  0,  0,  0],\n",
              "       [36, 37, 38,  0,  0,  0],\n",
              "       [39, 40, 41, 42, 43, 44]], dtype=int32)"
            ]
          },
          "metadata": {},
          "execution_count": 6
        }
      ]
    },
    {
      "cell_type": "code",
      "source": [
        "from keras.models import Sequential"
      ],
      "metadata": {
        "id": "CExmli3YbPlo"
      },
      "execution_count": 7,
      "outputs": []
    },
    {
      "cell_type": "code",
      "source": [
        "model = Sequential()\n",
        "model.add(Embedding(17,output_dim=2,input_length=6))\n",
        "\n",
        "model.summary()"
      ],
      "metadata": {
        "colab": {
          "base_uri": "https://localhost:8080/"
        },
        "id": "ETWEOn4wmRzd",
        "outputId": "50c419a5-fce3-4830-a934-469e02112bb9"
      },
      "execution_count": 10,
      "outputs": [
        {
          "output_type": "stream",
          "name": "stdout",
          "text": [
            "Model: \"sequential_1\"\n",
            "_________________________________________________________________\n",
            " Layer (type)                Output Shape              Param #   \n",
            "=================================================================\n",
            " embedding (Embedding)       (None, 6, 2)              34        \n",
            "                                                                 \n",
            "=================================================================\n",
            "Total params: 34 (136.00 Byte)\n",
            "Trainable params: 34 (136.00 Byte)\n",
            "Non-trainable params: 0 (0.00 Byte)\n",
            "_________________________________________________________________\n"
          ]
        }
      ]
    },
    {
      "cell_type": "code",
      "source": [
        "model.compile('adam','accuracy')"
      ],
      "metadata": {
        "id": "R68ghDfNmSAC"
      },
      "execution_count": 11,
      "outputs": []
    },
    {
      "cell_type": "code",
      "source": [
        "pred = model.predict(sequences)\n",
        "print(pred)"
      ],
      "metadata": {
        "colab": {
          "base_uri": "https://localhost:8080/"
        },
        "id": "ooYWO2NwoKoQ",
        "outputId": "d9952936-6a03-4e3c-aff6-dbfab63e6373"
      },
      "execution_count": 12,
      "outputs": [
        {
          "output_type": "stream",
          "name": "stdout",
          "text": [
            "1/1 [==============================] - 0s 95ms/step\n",
            "[[[-0.04993719  0.04926742]\n",
            "  [-0.01834246  0.03001859]\n",
            "  [-0.00824134  0.01283456]\n",
            "  [ 0.0396822   0.02341851]\n",
            "  [ 0.0396822   0.02341851]\n",
            "  [ 0.0396822   0.02341851]]\n",
            "\n",
            " [[ 0.00221647 -0.02425199]\n",
            "  [-0.0376696   0.04079857]\n",
            "  [-0.00642986  0.02181686]\n",
            "  [ 0.0396822   0.02341851]\n",
            "  [ 0.0396822   0.02341851]\n",
            "  [ 0.0396822   0.02341851]]\n",
            "\n",
            " [[ 0.04090536  0.04920956]\n",
            "  [-0.00854544  0.00578039]\n",
            "  [-0.03897917 -0.01289396]\n",
            "  [ 0.0396822   0.02341851]\n",
            "  [ 0.0396822   0.02341851]\n",
            "  [ 0.0396822   0.02341851]]\n",
            "\n",
            " [[-0.03553145 -0.01290215]\n",
            "  [ 0.04591373 -0.01317829]\n",
            "  [ 0.03344286 -0.02590947]\n",
            "  [ 0.0396822   0.02341851]\n",
            "  [ 0.0396822   0.02341851]\n",
            "  [ 0.0396822   0.02341851]]\n",
            "\n",
            " [[ 0.02239076 -0.02603922]\n",
            "  [ 0.01490312 -0.03321801]\n",
            "  [ 0.          0.        ]\n",
            "  [ 0.01490312 -0.03321801]\n",
            "  [ 0.0396822   0.02341851]\n",
            "  [ 0.0396822   0.02341851]]\n",
            "\n",
            " [[ 0.          0.        ]\n",
            "  [-0.04433088 -0.0196596 ]\n",
            "  [ 0.          0.        ]\n",
            "  [-0.04433088 -0.0196596 ]\n",
            "  [ 0.0396822   0.02341851]\n",
            "  [ 0.0396822   0.02341851]]\n",
            "\n",
            " [[ 0.          0.        ]\n",
            "  [ 0.          0.        ]\n",
            "  [ 0.          0.        ]\n",
            "  [ 0.0396822   0.02341851]\n",
            "  [ 0.0396822   0.02341851]\n",
            "  [ 0.0396822   0.02341851]]\n",
            "\n",
            " [[ 0.          0.        ]\n",
            "  [-0.02394736 -0.04760746]\n",
            "  [ 0.          0.        ]\n",
            "  [ 0.0396822   0.02341851]\n",
            "  [ 0.0396822   0.02341851]\n",
            "  [ 0.0396822   0.02341851]]\n",
            "\n",
            " [[ 0.          0.        ]\n",
            "  [-0.0376696   0.04079857]\n",
            "  [ 0.          0.        ]\n",
            "  [ 0.0396822   0.02341851]\n",
            "  [ 0.0396822   0.02341851]\n",
            "  [ 0.0396822   0.02341851]]\n",
            "\n",
            " [[ 0.          0.        ]\n",
            "  [ 0.          0.        ]\n",
            "  [ 0.0396822   0.02341851]\n",
            "  [ 0.0396822   0.02341851]\n",
            "  [ 0.0396822   0.02341851]\n",
            "  [ 0.0396822   0.02341851]]\n",
            "\n",
            " [[ 0.          0.        ]\n",
            "  [ 0.          0.        ]\n",
            "  [ 0.          0.        ]\n",
            "  [ 0.0396822   0.02341851]\n",
            "  [ 0.0396822   0.02341851]\n",
            "  [ 0.0396822   0.02341851]]\n",
            "\n",
            " [[-0.01834246  0.03001859]\n",
            "  [-0.02394736 -0.04760746]\n",
            "  [ 0.          0.        ]\n",
            "  [-0.01834246  0.03001859]\n",
            "  [ 0.0396822   0.02341851]\n",
            "  [ 0.0396822   0.02341851]]\n",
            "\n",
            " [[ 0.          0.        ]\n",
            "  [ 0.          0.        ]\n",
            "  [ 0.          0.        ]\n",
            "  [ 0.0396822   0.02341851]\n",
            "  [ 0.0396822   0.02341851]\n",
            "  [ 0.0396822   0.02341851]]\n",
            "\n",
            " [[ 0.          0.        ]\n",
            "  [ 0.          0.        ]\n",
            "  [ 0.          0.        ]\n",
            "  [ 0.0396822   0.02341851]\n",
            "  [ 0.0396822   0.02341851]\n",
            "  [ 0.0396822   0.02341851]]\n",
            "\n",
            " [[ 0.          0.        ]\n",
            "  [ 0.          0.        ]\n",
            "  [ 0.          0.        ]\n",
            "  [ 0.          0.        ]\n",
            "  [ 0.          0.        ]\n",
            "  [ 0.          0.        ]]]\n"
          ]
        }
      ]
    },
    {
      "cell_type": "code",
      "source": [
        "from keras.datasets import imdb\n",
        "from keras.preprocessing.text import Tokenizer\n",
        "from keras.utils import pad_sequences\n",
        "from keras import Sequential\n",
        "from keras.layers import Dense,SimpleRNN,Embedding,Flatten"
      ],
      "metadata": {
        "id": "yrM0IXVamPLn"
      },
      "execution_count": 13,
      "outputs": []
    },
    {
      "cell_type": "code",
      "source": [
        "(X_train,y_train),(X_test,y_test) = imdb.load_data()"
      ],
      "metadata": {
        "id": "4aH4HVjcyq1f"
      },
      "execution_count": 14,
      "outputs": []
    },
    {
      "cell_type": "code",
      "source": [
        "X_train = pad_sequences(X_train,padding='post',maxlen=50)\n",
        "X_test = pad_sequences(X_test,padding='post',maxlen=50)"
      ],
      "metadata": {
        "id": "cu2UOZGUzAEF"
      },
      "execution_count": 15,
      "outputs": []
    },
    {
      "cell_type": "code",
      "source": [
        "X_train.shape"
      ],
      "metadata": {
        "colab": {
          "base_uri": "https://localhost:8080/"
        },
        "id": "aO412Krkz7EO",
        "outputId": "69433509-6d2f-4370-b9f7-5ef6ed5c22c6"
      },
      "execution_count": 16,
      "outputs": [
        {
          "output_type": "execute_result",
          "data": {
            "text/plain": [
              "(25000, 50)"
            ]
          },
          "metadata": {},
          "execution_count": 16
        }
      ]
    },
    {
      "cell_type": "code",
      "source": [
        "model = Sequential()\n",
        "model.add(Embedding(10000, 2))\n",
        "model.add(SimpleRNN(32,return_sequences=False))\n",
        "model.add(Dense(1, activation='sigmoid'))\n",
        "\n",
        "model.summary()"
      ],
      "metadata": {
        "colab": {
          "base_uri": "https://localhost:8080/"
        },
        "id": "WWXhm8vP_DO-",
        "outputId": "e67757bc-765e-4641-bfbc-8d602a6b5664"
      },
      "execution_count": 19,
      "outputs": [
        {
          "output_type": "stream",
          "name": "stdout",
          "text": [
            "Model: \"sequential_3\"\n",
            "_________________________________________________________________\n",
            " Layer (type)                Output Shape              Param #   \n",
            "=================================================================\n",
            " embedding_2 (Embedding)     (None, None, 2)           20000     \n",
            "                                                                 \n",
            " simple_rnn (SimpleRNN)      (None, 32)                1120      \n",
            "                                                                 \n",
            " dense (Dense)               (None, 1)                 33        \n",
            "                                                                 \n",
            "=================================================================\n",
            "Total params: 21153 (82.63 KB)\n",
            "Trainable params: 21153 (82.63 KB)\n",
            "Non-trainable params: 0 (0.00 Byte)\n",
            "_________________________________________________________________\n"
          ]
        }
      ]
    },
    {
      "cell_type": "code",
      "source": [
        "model.compile(optimizer='adam', loss='binary_crossentropy', metrics=['acc'])\n",
        "history = model.fit(X_train, y_train,epochs=5,validation_data=(X_test,y_test))"
      ],
      "metadata": {
        "colab": {
          "base_uri": "https://localhost:8080/"
        },
        "id": "AGCAZ7Rm_fqH",
        "outputId": "ec591601-425d-4e1a-b68c-653ee4cd2082"
      },
      "execution_count": 20,
      "outputs": [
        {
          "output_type": "stream",
          "name": "stdout",
          "text": [
            "Epoch 1/5\n",
            "782/782 [==============================] - 63s 77ms/step - loss: 0.6346 - acc: 0.6119 - val_loss: 0.4514 - val_acc: 0.7943\n",
            "Epoch 2/5\n",
            "782/782 [==============================] - 44s 56ms/step - loss: 0.3984 - acc: 0.8230 - val_loss: 0.4383 - val_acc: 0.7967\n",
            "Epoch 3/5\n",
            "782/782 [==============================] - 42s 54ms/step - loss: 0.3229 - acc: 0.8651 - val_loss: 0.4309 - val_acc: 0.8118\n",
            "Epoch 4/5\n",
            "782/782 [==============================] - 42s 53ms/step - loss: 0.2788 - acc: 0.8899 - val_loss: 0.4480 - val_acc: 0.8071\n",
            "Epoch 5/5\n",
            "782/782 [==============================] - 42s 54ms/step - loss: 0.2397 - acc: 0.9082 - val_loss: 0.5332 - val_acc: 0.7903\n"
          ]
        }
      ]
    },
    {
      "cell_type": "code",
      "source": [],
      "metadata": {
        "id": "jAQETwiZikEY"
      },
      "execution_count": null,
      "outputs": []
    }
  ]
}