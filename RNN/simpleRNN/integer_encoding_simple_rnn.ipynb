{
  "nbformat": 4,
  "nbformat_minor": 0,
  "metadata": {
    "colab": {
      "provenance": [],
      "gpuType": "T4"
    },
    "kernelspec": {
      "name": "python3",
      "display_name": "Python 3"
    },
    "language_info": {
      "name": "python"
    },
    "accelerator": "GPU"
  },
  "cells": [
    {
      "cell_type": "code",
      "execution_count": 5,
      "metadata": {
        "id": "SX1YuKQ4UDon"
      },
      "outputs": [],
      "source": [
        "import numpy as np\n",
        "\n",
        "docs = [\"long live democracy\",\n",
        "    \"freedom is essential\",\n",
        "    \"love conquers hate\",\n",
        "    \"unity in diversity\",\n",
        "    \"work hard play hard\",\n",
        "    \"dream big achieve big\",\n",
        "    \"education for all\",\n",
        "    \"science and innovation\",\n",
        "    \"health is wealth\",\n",
        "    \"nature's beauty\",\n",
        "    \"never give up\",\n",
        "    \"live and let live\",\n",
        "    \"time heals wounds\",\n",
        "    \"practice makes perfect\",\n",
        "    \"every cloud has a silver lining\",]"
      ]
    },
    {
      "cell_type": "code",
      "source": [
        "from keras.preprocessing.text import Tokenizer\n",
        "tokenizer = Tokenizer(oov_token='<nothing>')"
      ],
      "metadata": {
        "id": "pOJzJ3vzUOkh"
      },
      "execution_count": 6,
      "outputs": []
    },
    {
      "cell_type": "code",
      "source": [
        "tokenizer.fit_on_texts(docs)"
      ],
      "metadata": {
        "id": "njO0da4-Unl8"
      },
      "execution_count": 7,
      "outputs": []
    },
    {
      "cell_type": "code",
      "source": [
        "tokenizer.word_index"
      ],
      "metadata": {
        "id": "GrKpFbzRUucs",
        "colab": {
          "base_uri": "https://localhost:8080/"
        },
        "outputId": "d415f21a-5daf-4c1b-c69e-a722e60c8b4c"
      },
      "execution_count": 8,
      "outputs": [
        {
          "output_type": "execute_result",
          "data": {
            "text/plain": [
              "{'<nothing>': 1,\n",
              " 'live': 2,\n",
              " 'is': 3,\n",
              " 'hard': 4,\n",
              " 'big': 5,\n",
              " 'and': 6,\n",
              " 'long': 7,\n",
              " 'democracy': 8,\n",
              " 'freedom': 9,\n",
              " 'essential': 10,\n",
              " 'love': 11,\n",
              " 'conquers': 12,\n",
              " 'hate': 13,\n",
              " 'unity': 14,\n",
              " 'in': 15,\n",
              " 'diversity': 16,\n",
              " 'work': 17,\n",
              " 'play': 18,\n",
              " 'dream': 19,\n",
              " 'achieve': 20,\n",
              " 'education': 21,\n",
              " 'for': 22,\n",
              " 'all': 23,\n",
              " 'science': 24,\n",
              " 'innovation': 25,\n",
              " 'health': 26,\n",
              " 'wealth': 27,\n",
              " \"nature's\": 28,\n",
              " 'beauty': 29,\n",
              " 'never': 30,\n",
              " 'give': 31,\n",
              " 'up': 32,\n",
              " 'let': 33,\n",
              " 'time': 34,\n",
              " 'heals': 35,\n",
              " 'wounds': 36,\n",
              " 'practice': 37,\n",
              " 'makes': 38,\n",
              " 'perfect': 39,\n",
              " 'every': 40,\n",
              " 'cloud': 41,\n",
              " 'has': 42,\n",
              " 'a': 43,\n",
              " 'silver': 44,\n",
              " 'lining': 45}"
            ]
          },
          "metadata": {},
          "execution_count": 8
        }
      ]
    },
    {
      "cell_type": "code",
      "source": [
        "tokenizer.word_counts"
      ],
      "metadata": {
        "colab": {
          "base_uri": "https://localhost:8080/"
        },
        "id": "jNcKSYUYegGl",
        "outputId": "a263192f-e734-4d5f-8ddc-e0ff9b7ffd1f"
      },
      "execution_count": 9,
      "outputs": [
        {
          "output_type": "execute_result",
          "data": {
            "text/plain": [
              "OrderedDict([('long', 1),\n",
              "             ('live', 3),\n",
              "             ('democracy', 1),\n",
              "             ('freedom', 1),\n",
              "             ('is', 2),\n",
              "             ('essential', 1),\n",
              "             ('love', 1),\n",
              "             ('conquers', 1),\n",
              "             ('hate', 1),\n",
              "             ('unity', 1),\n",
              "             ('in', 1),\n",
              "             ('diversity', 1),\n",
              "             ('work', 1),\n",
              "             ('hard', 2),\n",
              "             ('play', 1),\n",
              "             ('dream', 1),\n",
              "             ('big', 2),\n",
              "             ('achieve', 1),\n",
              "             ('education', 1),\n",
              "             ('for', 1),\n",
              "             ('all', 1),\n",
              "             ('science', 1),\n",
              "             ('and', 2),\n",
              "             ('innovation', 1),\n",
              "             ('health', 1),\n",
              "             ('wealth', 1),\n",
              "             (\"nature's\", 1),\n",
              "             ('beauty', 1),\n",
              "             ('never', 1),\n",
              "             ('give', 1),\n",
              "             ('up', 1),\n",
              "             ('let', 1),\n",
              "             ('time', 1),\n",
              "             ('heals', 1),\n",
              "             ('wounds', 1),\n",
              "             ('practice', 1),\n",
              "             ('makes', 1),\n",
              "             ('perfect', 1),\n",
              "             ('every', 1),\n",
              "             ('cloud', 1),\n",
              "             ('has', 1),\n",
              "             ('a', 1),\n",
              "             ('silver', 1),\n",
              "             ('lining', 1)])"
            ]
          },
          "metadata": {},
          "execution_count": 9
        }
      ]
    },
    {
      "cell_type": "code",
      "source": [
        "tokenizer.document_count"
      ],
      "metadata": {
        "colab": {
          "base_uri": "https://localhost:8080/"
        },
        "id": "mx3SMLV3euuU",
        "outputId": "f639921b-a27c-4380-f540-3e62763cb16d"
      },
      "execution_count": 10,
      "outputs": [
        {
          "output_type": "execute_result",
          "data": {
            "text/plain": [
              "15"
            ]
          },
          "metadata": {},
          "execution_count": 10
        }
      ]
    },
    {
      "cell_type": "code",
      "source": [
        "sequences = tokenizer.texts_to_sequences(docs)\n",
        "sequences"
      ],
      "metadata": {
        "id": "xNrqCeiUU05s",
        "colab": {
          "base_uri": "https://localhost:8080/"
        },
        "outputId": "ae4b68c5-5007-45b9-e16e-b70528644238"
      },
      "execution_count": 11,
      "outputs": [
        {
          "output_type": "execute_result",
          "data": {
            "text/plain": [
              "[[7, 2, 8],\n",
              " [9, 3, 10],\n",
              " [11, 12, 13],\n",
              " [14, 15, 16],\n",
              " [17, 4, 18, 4],\n",
              " [19, 5, 20, 5],\n",
              " [21, 22, 23],\n",
              " [24, 6, 25],\n",
              " [26, 3, 27],\n",
              " [28, 29],\n",
              " [30, 31, 32],\n",
              " [2, 6, 33, 2],\n",
              " [34, 35, 36],\n",
              " [37, 38, 39],\n",
              " [40, 41, 42, 43, 44, 45]]"
            ]
          },
          "metadata": {},
          "execution_count": 11
        }
      ]
    },
    {
      "cell_type": "code",
      "source": [
        "from keras.utils import pad_sequences"
      ],
      "metadata": {
        "id": "Y15DVHzhVCEY"
      },
      "execution_count": 12,
      "outputs": []
    },
    {
      "cell_type": "code",
      "source": [
        "sequences = pad_sequences(sequences,padding='post')"
      ],
      "metadata": {
        "id": "H00D6kZlVOC4"
      },
      "execution_count": 13,
      "outputs": []
    },
    {
      "cell_type": "code",
      "source": [
        "sequences"
      ],
      "metadata": {
        "colab": {
          "base_uri": "https://localhost:8080/"
        },
        "id": "DjL4mCzTV4rT",
        "outputId": "a15fb9d5-7b92-4633-9654-b07e0f04b8fb"
      },
      "execution_count": 14,
      "outputs": [
        {
          "output_type": "execute_result",
          "data": {
            "text/plain": [
              "array([[ 7,  2,  8,  0,  0,  0],\n",
              "       [ 9,  3, 10,  0,  0,  0],\n",
              "       [11, 12, 13,  0,  0,  0],\n",
              "       [14, 15, 16,  0,  0,  0],\n",
              "       [17,  4, 18,  4,  0,  0],\n",
              "       [19,  5, 20,  5,  0,  0],\n",
              "       [21, 22, 23,  0,  0,  0],\n",
              "       [24,  6, 25,  0,  0,  0],\n",
              "       [26,  3, 27,  0,  0,  0],\n",
              "       [28, 29,  0,  0,  0,  0],\n",
              "       [30, 31, 32,  0,  0,  0],\n",
              "       [ 2,  6, 33,  2,  0,  0],\n",
              "       [34, 35, 36,  0,  0,  0],\n",
              "       [37, 38, 39,  0,  0,  0],\n",
              "       [40, 41, 42, 43, 44, 45]], dtype=int32)"
            ]
          },
          "metadata": {},
          "execution_count": 14
        }
      ]
    },
    {
      "cell_type": "code",
      "source": [
        "from keras.datasets import imdb\n",
        "from keras import Sequential\n",
        "from keras.layers import Dense,SimpleRNN,Embedding,Flatten"
      ],
      "metadata": {
        "id": "f4cMDq3KDiaC"
      },
      "execution_count": 15,
      "outputs": []
    },
    {
      "cell_type": "code",
      "source": [
        "(X_train,y_train),(X_test,y_test) = imdb.load_data()"
      ],
      "metadata": {
        "colab": {
          "base_uri": "https://localhost:8080/"
        },
        "id": "vVqDOLaefsom",
        "outputId": "a430a5fe-7805-4c83-cdc9-1fb92c4ea0d9"
      },
      "execution_count": 16,
      "outputs": [
        {
          "output_type": "stream",
          "name": "stdout",
          "text": [
            "Downloading data from https://storage.googleapis.com/tensorflow/tf-keras-datasets/imdb.npz\n",
            "17464789/17464789 [==============================] - 0s 0us/step\n"
          ]
        }
      ]
    },
    {
      "cell_type": "code",
      "source": [
        "X_train[0]"
      ],
      "metadata": {
        "colab": {
          "base_uri": "https://localhost:8080/"
        },
        "id": "HTk54ntQfu6W",
        "outputId": "6cad1b19-04c2-4157-e627-0ffc50ae94b8"
      },
      "execution_count": 17,
      "outputs": [
        {
          "output_type": "execute_result",
          "data": {
            "text/plain": [
              "[1,\n",
              " 14,\n",
              " 22,\n",
              " 16,\n",
              " 43,\n",
              " 530,\n",
              " 973,\n",
              " 1622,\n",
              " 1385,\n",
              " 65,\n",
              " 458,\n",
              " 4468,\n",
              " 66,\n",
              " 3941,\n",
              " 4,\n",
              " 173,\n",
              " 36,\n",
              " 256,\n",
              " 5,\n",
              " 25,\n",
              " 100,\n",
              " 43,\n",
              " 838,\n",
              " 112,\n",
              " 50,\n",
              " 670,\n",
              " 22665,\n",
              " 9,\n",
              " 35,\n",
              " 480,\n",
              " 284,\n",
              " 5,\n",
              " 150,\n",
              " 4,\n",
              " 172,\n",
              " 112,\n",
              " 167,\n",
              " 21631,\n",
              " 336,\n",
              " 385,\n",
              " 39,\n",
              " 4,\n",
              " 172,\n",
              " 4536,\n",
              " 1111,\n",
              " 17,\n",
              " 546,\n",
              " 38,\n",
              " 13,\n",
              " 447,\n",
              " 4,\n",
              " 192,\n",
              " 50,\n",
              " 16,\n",
              " 6,\n",
              " 147,\n",
              " 2025,\n",
              " 19,\n",
              " 14,\n",
              " 22,\n",
              " 4,\n",
              " 1920,\n",
              " 4613,\n",
              " 469,\n",
              " 4,\n",
              " 22,\n",
              " 71,\n",
              " 87,\n",
              " 12,\n",
              " 16,\n",
              " 43,\n",
              " 530,\n",
              " 38,\n",
              " 76,\n",
              " 15,\n",
              " 13,\n",
              " 1247,\n",
              " 4,\n",
              " 22,\n",
              " 17,\n",
              " 515,\n",
              " 17,\n",
              " 12,\n",
              " 16,\n",
              " 626,\n",
              " 18,\n",
              " 19193,\n",
              " 5,\n",
              " 62,\n",
              " 386,\n",
              " 12,\n",
              " 8,\n",
              " 316,\n",
              " 8,\n",
              " 106,\n",
              " 5,\n",
              " 4,\n",
              " 2223,\n",
              " 5244,\n",
              " 16,\n",
              " 480,\n",
              " 66,\n",
              " 3785,\n",
              " 33,\n",
              " 4,\n",
              " 130,\n",
              " 12,\n",
              " 16,\n",
              " 38,\n",
              " 619,\n",
              " 5,\n",
              " 25,\n",
              " 124,\n",
              " 51,\n",
              " 36,\n",
              " 135,\n",
              " 48,\n",
              " 25,\n",
              " 1415,\n",
              " 33,\n",
              " 6,\n",
              " 22,\n",
              " 12,\n",
              " 215,\n",
              " 28,\n",
              " 77,\n",
              " 52,\n",
              " 5,\n",
              " 14,\n",
              " 407,\n",
              " 16,\n",
              " 82,\n",
              " 10311,\n",
              " 8,\n",
              " 4,\n",
              " 107,\n",
              " 117,\n",
              " 5952,\n",
              " 15,\n",
              " 256,\n",
              " 4,\n",
              " 31050,\n",
              " 7,\n",
              " 3766,\n",
              " 5,\n",
              " 723,\n",
              " 36,\n",
              " 71,\n",
              " 43,\n",
              " 530,\n",
              " 476,\n",
              " 26,\n",
              " 400,\n",
              " 317,\n",
              " 46,\n",
              " 7,\n",
              " 4,\n",
              " 12118,\n",
              " 1029,\n",
              " 13,\n",
              " 104,\n",
              " 88,\n",
              " 4,\n",
              " 381,\n",
              " 15,\n",
              " 297,\n",
              " 98,\n",
              " 32,\n",
              " 2071,\n",
              " 56,\n",
              " 26,\n",
              " 141,\n",
              " 6,\n",
              " 194,\n",
              " 7486,\n",
              " 18,\n",
              " 4,\n",
              " 226,\n",
              " 22,\n",
              " 21,\n",
              " 134,\n",
              " 476,\n",
              " 26,\n",
              " 480,\n",
              " 5,\n",
              " 144,\n",
              " 30,\n",
              " 5535,\n",
              " 18,\n",
              " 51,\n",
              " 36,\n",
              " 28,\n",
              " 224,\n",
              " 92,\n",
              " 25,\n",
              " 104,\n",
              " 4,\n",
              " 226,\n",
              " 65,\n",
              " 16,\n",
              " 38,\n",
              " 1334,\n",
              " 88,\n",
              " 12,\n",
              " 16,\n",
              " 283,\n",
              " 5,\n",
              " 16,\n",
              " 4472,\n",
              " 113,\n",
              " 103,\n",
              " 32,\n",
              " 15,\n",
              " 16,\n",
              " 5345,\n",
              " 19,\n",
              " 178,\n",
              " 32]"
            ]
          },
          "metadata": {},
          "execution_count": 17
        }
      ]
    },
    {
      "cell_type": "code",
      "source": [
        "len(X_train[3])\n"
      ],
      "metadata": {
        "id": "Ucsw7QaQg7eH",
        "outputId": "6ef4928b-fa8d-4df8-c3f6-d9ef61799a03",
        "colab": {
          "base_uri": "https://localhost:8080/"
        }
      },
      "execution_count": 18,
      "outputs": [
        {
          "output_type": "execute_result",
          "data": {
            "text/plain": [
              "550"
            ]
          },
          "metadata": {},
          "execution_count": 18
        }
      ]
    },
    {
      "cell_type": "code",
      "source": [
        "len(X_train[2])\n"
      ],
      "metadata": {
        "id": "gElaIL5fg5jc",
        "outputId": "2b23c7bf-7014-4e01-c9db-99c0b2a5d129",
        "colab": {
          "base_uri": "https://localhost:8080/"
        }
      },
      "execution_count": 19,
      "outputs": [
        {
          "output_type": "execute_result",
          "data": {
            "text/plain": [
              "141"
            ]
          },
          "metadata": {},
          "execution_count": 19
        }
      ]
    },
    {
      "cell_type": "code",
      "source": [
        "len(X_train[1])\n",
        "\n"
      ],
      "metadata": {
        "colab": {
          "base_uri": "https://localhost:8080/"
        },
        "id": "u9tGLS4ofzBu",
        "outputId": "517f6502-85f6-4719-9457-15413b152d8b"
      },
      "execution_count": 20,
      "outputs": [
        {
          "output_type": "execute_result",
          "data": {
            "text/plain": [
              "189"
            ]
          },
          "metadata": {},
          "execution_count": 20
        }
      ]
    },
    {
      "cell_type": "code",
      "source": [
        "from keras.utils import pad_sequences"
      ],
      "metadata": {
        "id": "__nPgXSphVON"
      },
      "execution_count": 21,
      "outputs": []
    },
    {
      "cell_type": "code",
      "source": [
        "X_train = pad_sequences(X_train,padding='post',maxlen=200)\n",
        "X_test = pad_sequences(X_test,padding='post',maxlen=200)"
      ],
      "metadata": {
        "id": "uoEmzhEhf1aV"
      },
      "execution_count": 22,
      "outputs": []
    },
    {
      "cell_type": "code",
      "source": [
        "X_train[0]"
      ],
      "metadata": {
        "colab": {
          "base_uri": "https://localhost:8080/"
        },
        "id": "f4kNirFSgDEe",
        "outputId": "25d1ae34-9af0-4428-acfa-33f1e9e5cdad"
      },
      "execution_count": 23,
      "outputs": [
        {
          "output_type": "execute_result",
          "data": {
            "text/plain": [
              "array([    5,    25,   100,    43,   838,   112,    50,   670, 22665,\n",
              "           9,    35,   480,   284,     5,   150,     4,   172,   112,\n",
              "         167, 21631,   336,   385,    39,     4,   172,  4536,  1111,\n",
              "          17,   546,    38,    13,   447,     4,   192,    50,    16,\n",
              "           6,   147,  2025,    19,    14,    22,     4,  1920,  4613,\n",
              "         469,     4,    22,    71,    87,    12,    16,    43,   530,\n",
              "          38,    76,    15,    13,  1247,     4,    22,    17,   515,\n",
              "          17,    12,    16,   626,    18, 19193,     5,    62,   386,\n",
              "          12,     8,   316,     8,   106,     5,     4,  2223,  5244,\n",
              "          16,   480,    66,  3785,    33,     4,   130,    12,    16,\n",
              "          38,   619,     5,    25,   124,    51,    36,   135,    48,\n",
              "          25,  1415,    33,     6,    22,    12,   215,    28,    77,\n",
              "          52,     5,    14,   407,    16,    82, 10311,     8,     4,\n",
              "         107,   117,  5952,    15,   256,     4, 31050,     7,  3766,\n",
              "           5,   723,    36,    71,    43,   530,   476,    26,   400,\n",
              "         317,    46,     7,     4, 12118,  1029,    13,   104,    88,\n",
              "           4,   381,    15,   297,    98,    32,  2071,    56,    26,\n",
              "         141,     6,   194,  7486,    18,     4,   226,    22,    21,\n",
              "         134,   476,    26,   480,     5,   144,    30,  5535,    18,\n",
              "          51,    36,    28,   224,    92,    25,   104,     4,   226,\n",
              "          65,    16,    38,  1334,    88,    12,    16,   283,     5,\n",
              "          16,  4472,   113,   103,    32,    15,    16,  5345,    19,\n",
              "         178,    32], dtype=int32)"
            ]
          },
          "metadata": {},
          "execution_count": 23
        }
      ]
    },
    {
      "cell_type": "code",
      "source": [
        "X_train.shape"
      ],
      "metadata": {
        "id": "PN8b6vCXh9Uq",
        "outputId": "cd7355d6-a50a-4ffa-ca8f-0e2d04aa23b0",
        "colab": {
          "base_uri": "https://localhost:8080/"
        }
      },
      "execution_count": 26,
      "outputs": [
        {
          "output_type": "execute_result",
          "data": {
            "text/plain": [
              "(25000, 200)"
            ]
          },
          "metadata": {},
          "execution_count": 26
        }
      ]
    },
    {
      "cell_type": "code",
      "source": [
        "model = Sequential()\n",
        "\n",
        "model.add(SimpleRNN(32,input_shape=(200,1),return_sequences=False))\n",
        "model.add(Dense(1,activation='sigmoid'))\n",
        "\n",
        "model.summary()"
      ],
      "metadata": {
        "colab": {
          "base_uri": "https://localhost:8080/"
        },
        "id": "MN_Fi3n6gFkp",
        "outputId": "0b71cfd7-0a74-4f0b-f18f-686b78b15227"
      },
      "execution_count": 24,
      "outputs": [
        {
          "output_type": "stream",
          "name": "stdout",
          "text": [
            "Model: \"sequential\"\n",
            "_________________________________________________________________\n",
            " Layer (type)                Output Shape              Param #   \n",
            "=================================================================\n",
            " simple_rnn (SimpleRNN)      (None, 32)                1088      \n",
            "                                                                 \n",
            " dense (Dense)               (None, 1)                 33        \n",
            "                                                                 \n",
            "=================================================================\n",
            "Total params: 1121 (4.38 KB)\n",
            "Trainable params: 1121 (4.38 KB)\n",
            "Non-trainable params: 0 (0.00 Byte)\n",
            "_________________________________________________________________\n"
          ]
        }
      ]
    },
    {
      "cell_type": "code",
      "source": [
        "model.compile(loss='binary_crossentropy',optimizer='adam',metrics=['accuracy'])\n",
        "\n",
        "model.fit(X_train,y_train,epochs=5,validation_data=(X_test,y_test))"
      ],
      "metadata": {
        "colab": {
          "base_uri": "https://localhost:8080/"
        },
        "id": "EArIjALcgPTh",
        "outputId": "68ac9100-c39c-421a-a0d9-d7ba4fab5851"
      },
      "execution_count": 27,
      "outputs": [
        {
          "output_type": "stream",
          "name": "stdout",
          "text": [
            "Epoch 1/5\n",
            "782/782 [==============================] - 105s 131ms/step - loss: 0.6970 - accuracy: 0.5057 - val_loss: 0.6979 - val_accuracy: 0.5007\n",
            "Epoch 2/5\n",
            "782/782 [==============================] - 95s 122ms/step - loss: 0.6941 - accuracy: 0.5036 - val_loss: 0.6957 - val_accuracy: 0.5002\n",
            "Epoch 3/5\n",
            "782/782 [==============================] - 98s 126ms/step - loss: 0.6941 - accuracy: 0.4985 - val_loss: 0.6935 - val_accuracy: 0.5018\n",
            "Epoch 4/5\n",
            "782/782 [==============================] - 104s 133ms/step - loss: 0.6933 - accuracy: 0.5052 - val_loss: 0.6938 - val_accuracy: 0.5006\n",
            "Epoch 5/5\n",
            "782/782 [==============================] - 95s 121ms/step - loss: 0.6932 - accuracy: 0.5079 - val_loss: 0.6946 - val_accuracy: 0.4962\n"
          ]
        },
        {
          "output_type": "execute_result",
          "data": {
            "text/plain": [
              "<keras.src.callbacks.History at 0x7e4e2a39b6d0>"
            ]
          },
          "metadata": {},
          "execution_count": 27
        }
      ]
    },
    {
      "cell_type": "code",
      "source": [],
      "metadata": {
        "id": "N9ziz5wWgTLS"
      },
      "execution_count": null,
      "outputs": []
    }
  ]
}