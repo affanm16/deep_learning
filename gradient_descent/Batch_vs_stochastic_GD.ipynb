{
  "cells": [
    {
      "cell_type": "code",
      "execution_count": 14,
      "metadata": {
        "id": "Jhe9S91z7zVt"
      },
      "outputs": [],
      "source": [
        "import numpy as np\n",
        "import pandas as pd\n",
        "import time\n",
        "import sklearn"
      ]
    },
    {
      "cell_type": "code",
      "execution_count": 5,
      "metadata": {
        "id": "mNbO8jlc8RS-"
      },
      "outputs": [],
      "source": [
        "df = pd.read_csv('D:/github-programs/deep_learning/datsets/Social_Network_Ads.csv')"
      ]
    },
    {
      "cell_type": "code",
      "execution_count": 6,
      "metadata": {
        "colab": {
          "base_uri": "https://localhost:8080/",
          "height": 206
        },
        "id": "UE75q5qZ8ajR",
        "outputId": "2e90e2c2-8faf-4ce7-c522-4a73dcd53d96"
      },
      "outputs": [
        {
          "data": {
            "text/html": [
              "<div>\n",
              "<style scoped>\n",
              "    .dataframe tbody tr th:only-of-type {\n",
              "        vertical-align: middle;\n",
              "    }\n",
              "\n",
              "    .dataframe tbody tr th {\n",
              "        vertical-align: top;\n",
              "    }\n",
              "\n",
              "    .dataframe thead th {\n",
              "        text-align: right;\n",
              "    }\n",
              "</style>\n",
              "<table border=\"1\" class=\"dataframe\">\n",
              "  <thead>\n",
              "    <tr style=\"text-align: right;\">\n",
              "      <th></th>\n",
              "      <th>User ID</th>\n",
              "      <th>Gender</th>\n",
              "      <th>Age</th>\n",
              "      <th>EstimatedSalary</th>\n",
              "      <th>Purchased</th>\n",
              "    </tr>\n",
              "  </thead>\n",
              "  <tbody>\n",
              "    <tr>\n",
              "      <th>0</th>\n",
              "      <td>15624510</td>\n",
              "      <td>Male</td>\n",
              "      <td>19</td>\n",
              "      <td>19000</td>\n",
              "      <td>0</td>\n",
              "    </tr>\n",
              "    <tr>\n",
              "      <th>1</th>\n",
              "      <td>15810944</td>\n",
              "      <td>Male</td>\n",
              "      <td>35</td>\n",
              "      <td>20000</td>\n",
              "      <td>0</td>\n",
              "    </tr>\n",
              "    <tr>\n",
              "      <th>2</th>\n",
              "      <td>15668575</td>\n",
              "      <td>Female</td>\n",
              "      <td>26</td>\n",
              "      <td>43000</td>\n",
              "      <td>0</td>\n",
              "    </tr>\n",
              "    <tr>\n",
              "      <th>3</th>\n",
              "      <td>15603246</td>\n",
              "      <td>Female</td>\n",
              "      <td>27</td>\n",
              "      <td>57000</td>\n",
              "      <td>0</td>\n",
              "    </tr>\n",
              "    <tr>\n",
              "      <th>4</th>\n",
              "      <td>15804002</td>\n",
              "      <td>Male</td>\n",
              "      <td>19</td>\n",
              "      <td>76000</td>\n",
              "      <td>0</td>\n",
              "    </tr>\n",
              "    <tr>\n",
              "      <th>...</th>\n",
              "      <td>...</td>\n",
              "      <td>...</td>\n",
              "      <td>...</td>\n",
              "      <td>...</td>\n",
              "      <td>...</td>\n",
              "    </tr>\n",
              "    <tr>\n",
              "      <th>395</th>\n",
              "      <td>15691863</td>\n",
              "      <td>Female</td>\n",
              "      <td>46</td>\n",
              "      <td>41000</td>\n",
              "      <td>1</td>\n",
              "    </tr>\n",
              "    <tr>\n",
              "      <th>396</th>\n",
              "      <td>15706071</td>\n",
              "      <td>Male</td>\n",
              "      <td>51</td>\n",
              "      <td>23000</td>\n",
              "      <td>1</td>\n",
              "    </tr>\n",
              "    <tr>\n",
              "      <th>397</th>\n",
              "      <td>15654296</td>\n",
              "      <td>Female</td>\n",
              "      <td>50</td>\n",
              "      <td>20000</td>\n",
              "      <td>1</td>\n",
              "    </tr>\n",
              "    <tr>\n",
              "      <th>398</th>\n",
              "      <td>15755018</td>\n",
              "      <td>Male</td>\n",
              "      <td>36</td>\n",
              "      <td>33000</td>\n",
              "      <td>0</td>\n",
              "    </tr>\n",
              "    <tr>\n",
              "      <th>399</th>\n",
              "      <td>15594041</td>\n",
              "      <td>Female</td>\n",
              "      <td>49</td>\n",
              "      <td>36000</td>\n",
              "      <td>1</td>\n",
              "    </tr>\n",
              "  </tbody>\n",
              "</table>\n",
              "<p>400 rows × 5 columns</p>\n",
              "</div>"
            ],
            "text/plain": [
              "      User ID  Gender  Age  EstimatedSalary  Purchased\n",
              "0    15624510    Male   19            19000          0\n",
              "1    15810944    Male   35            20000          0\n",
              "2    15668575  Female   26            43000          0\n",
              "3    15603246  Female   27            57000          0\n",
              "4    15804002    Male   19            76000          0\n",
              "..        ...     ...  ...              ...        ...\n",
              "395  15691863  Female   46            41000          1\n",
              "396  15706071    Male   51            23000          1\n",
              "397  15654296  Female   50            20000          1\n",
              "398  15755018    Male   36            33000          0\n",
              "399  15594041  Female   49            36000          1\n",
              "\n",
              "[400 rows x 5 columns]"
            ]
          },
          "execution_count": 6,
          "metadata": {},
          "output_type": "execute_result"
        }
      ],
      "source": [
        "df"
      ]
    },
    {
      "cell_type": "code",
      "execution_count": 7,
      "metadata": {
        "id": "jtbiihl68bfG"
      },
      "outputs": [],
      "source": [
        "df = df[['Age','EstimatedSalary','Purchased']]"
      ]
    },
    {
      "cell_type": "code",
      "execution_count": 8,
      "metadata": {
        "colab": {
          "base_uri": "https://localhost:8080/",
          "height": 206
        },
        "id": "8sqnClNn8hm1",
        "outputId": "9a523f84-bde3-410b-c413-b3b891a59f97"
      },
      "outputs": [
        {
          "data": {
            "text/html": [
              "<div>\n",
              "<style scoped>\n",
              "    .dataframe tbody tr th:only-of-type {\n",
              "        vertical-align: middle;\n",
              "    }\n",
              "\n",
              "    .dataframe tbody tr th {\n",
              "        vertical-align: top;\n",
              "    }\n",
              "\n",
              "    .dataframe thead th {\n",
              "        text-align: right;\n",
              "    }\n",
              "</style>\n",
              "<table border=\"1\" class=\"dataframe\">\n",
              "  <thead>\n",
              "    <tr style=\"text-align: right;\">\n",
              "      <th></th>\n",
              "      <th>Age</th>\n",
              "      <th>EstimatedSalary</th>\n",
              "      <th>Purchased</th>\n",
              "    </tr>\n",
              "  </thead>\n",
              "  <tbody>\n",
              "    <tr>\n",
              "      <th>0</th>\n",
              "      <td>19</td>\n",
              "      <td>19000</td>\n",
              "      <td>0</td>\n",
              "    </tr>\n",
              "    <tr>\n",
              "      <th>1</th>\n",
              "      <td>35</td>\n",
              "      <td>20000</td>\n",
              "      <td>0</td>\n",
              "    </tr>\n",
              "    <tr>\n",
              "      <th>2</th>\n",
              "      <td>26</td>\n",
              "      <td>43000</td>\n",
              "      <td>0</td>\n",
              "    </tr>\n",
              "    <tr>\n",
              "      <th>3</th>\n",
              "      <td>27</td>\n",
              "      <td>57000</td>\n",
              "      <td>0</td>\n",
              "    </tr>\n",
              "    <tr>\n",
              "      <th>4</th>\n",
              "      <td>19</td>\n",
              "      <td>76000</td>\n",
              "      <td>0</td>\n",
              "    </tr>\n",
              "  </tbody>\n",
              "</table>\n",
              "</div>"
            ],
            "text/plain": [
              "   Age  EstimatedSalary  Purchased\n",
              "0   19            19000          0\n",
              "1   35            20000          0\n",
              "2   26            43000          0\n",
              "3   27            57000          0\n",
              "4   19            76000          0"
            ]
          },
          "execution_count": 8,
          "metadata": {},
          "output_type": "execute_result"
        }
      ],
      "source": [
        "df.head()"
      ]
    },
    {
      "cell_type": "code",
      "execution_count": 9,
      "metadata": {
        "id": "7D4B_h0z8iTN"
      },
      "outputs": [],
      "source": [
        "X = df.iloc[:,0:2]\n",
        "y = df.iloc[:,-1]"
      ]
    },
    {
      "cell_type": "code",
      "execution_count": 10,
      "metadata": {
        "colab": {
          "base_uri": "https://localhost:8080/",
          "height": 423
        },
        "id": "qWDgFBo581Fs",
        "outputId": "4bf9fca3-aa74-4da5-c15f-4de3f97a493e"
      },
      "outputs": [
        {
          "data": {
            "text/html": [
              "<div>\n",
              "<style scoped>\n",
              "    .dataframe tbody tr th:only-of-type {\n",
              "        vertical-align: middle;\n",
              "    }\n",
              "\n",
              "    .dataframe tbody tr th {\n",
              "        vertical-align: top;\n",
              "    }\n",
              "\n",
              "    .dataframe thead th {\n",
              "        text-align: right;\n",
              "    }\n",
              "</style>\n",
              "<table border=\"1\" class=\"dataframe\">\n",
              "  <thead>\n",
              "    <tr style=\"text-align: right;\">\n",
              "      <th></th>\n",
              "      <th>Age</th>\n",
              "      <th>EstimatedSalary</th>\n",
              "    </tr>\n",
              "  </thead>\n",
              "  <tbody>\n",
              "    <tr>\n",
              "      <th>0</th>\n",
              "      <td>19</td>\n",
              "      <td>19000</td>\n",
              "    </tr>\n",
              "    <tr>\n",
              "      <th>1</th>\n",
              "      <td>35</td>\n",
              "      <td>20000</td>\n",
              "    </tr>\n",
              "    <tr>\n",
              "      <th>2</th>\n",
              "      <td>26</td>\n",
              "      <td>43000</td>\n",
              "    </tr>\n",
              "    <tr>\n",
              "      <th>3</th>\n",
              "      <td>27</td>\n",
              "      <td>57000</td>\n",
              "    </tr>\n",
              "    <tr>\n",
              "      <th>4</th>\n",
              "      <td>19</td>\n",
              "      <td>76000</td>\n",
              "    </tr>\n",
              "    <tr>\n",
              "      <th>...</th>\n",
              "      <td>...</td>\n",
              "      <td>...</td>\n",
              "    </tr>\n",
              "    <tr>\n",
              "      <th>395</th>\n",
              "      <td>46</td>\n",
              "      <td>41000</td>\n",
              "    </tr>\n",
              "    <tr>\n",
              "      <th>396</th>\n",
              "      <td>51</td>\n",
              "      <td>23000</td>\n",
              "    </tr>\n",
              "    <tr>\n",
              "      <th>397</th>\n",
              "      <td>50</td>\n",
              "      <td>20000</td>\n",
              "    </tr>\n",
              "    <tr>\n",
              "      <th>398</th>\n",
              "      <td>36</td>\n",
              "      <td>33000</td>\n",
              "    </tr>\n",
              "    <tr>\n",
              "      <th>399</th>\n",
              "      <td>49</td>\n",
              "      <td>36000</td>\n",
              "    </tr>\n",
              "  </tbody>\n",
              "</table>\n",
              "<p>400 rows × 2 columns</p>\n",
              "</div>"
            ],
            "text/plain": [
              "     Age  EstimatedSalary\n",
              "0     19            19000\n",
              "1     35            20000\n",
              "2     26            43000\n",
              "3     27            57000\n",
              "4     19            76000\n",
              "..   ...              ...\n",
              "395   46            41000\n",
              "396   51            23000\n",
              "397   50            20000\n",
              "398   36            33000\n",
              "399   49            36000\n",
              "\n",
              "[400 rows x 2 columns]"
            ]
          },
          "execution_count": 10,
          "metadata": {},
          "output_type": "execute_result"
        }
      ],
      "source": [
        "X"
      ]
    },
    {
      "cell_type": "code",
      "execution_count": 15,
      "metadata": {
        "id": "W42jkzGs81Zx"
      },
      "outputs": [],
      "source": [
        "from sklearn.preprocessing import StandardScaler\n",
        "scaler = StandardScaler()\n",
        "\n",
        "X_scaled = scaler.fit_transform(X)"
      ]
    },
    {
      "cell_type": "code",
      "execution_count": 16,
      "metadata": {
        "colab": {
          "base_uri": "https://localhost:8080/"
        },
        "id": "z8KBtgHXIMHU",
        "outputId": "fb792a83-a620-43f7-b151-ec32a0f420be"
      },
      "outputs": [
        {
          "data": {
            "text/plain": [
              "(400, 2)"
            ]
          },
          "execution_count": 16,
          "metadata": {},
          "output_type": "execute_result"
        }
      ],
      "source": [
        "X_scaled.shape"
      ]
    },
    {
      "cell_type": "code",
      "execution_count": null,
      "metadata": {
        "id": "iAWPbqXp-tTu"
      },
      "outputs": [],
      "source": [
        "#from sklearn.model_selection import train_test_split\n",
        "#X_train,X_test,y_train,y_test = train_test_split(X,y,test_size=0.2,random_state=2)"
      ]
    },
    {
      "cell_type": "code",
      "execution_count": null,
      "metadata": {
        "id": "6ljlQai4_ADH"
      },
      "outputs": [],
      "source": [
        "#X_train.shape"
      ]
    },
    {
      "cell_type": "code",
      "execution_count": 17,
      "metadata": {
        "id": "Q6j-Mpk89CYf"
      },
      "outputs": [
        {
          "name": "stdout",
          "output_type": "stream",
          "text": [
            "WARNING:tensorflow:From c:\\Users\\HP\\AppData\\Local\\Programs\\Python\\Python311\\Lib\\site-packages\\keras\\src\\losses.py:2976: The name tf.losses.sparse_softmax_cross_entropy is deprecated. Please use tf.compat.v1.losses.sparse_softmax_cross_entropy instead.\n",
            "\n"
          ]
        }
      ],
      "source": [
        "import tensorflow as tf\n",
        "from tensorflow import keras\n",
        "from keras import Sequential\n",
        "from keras.layers import Dense"
      ]
    },
    {
      "cell_type": "code",
      "execution_count": 18,
      "metadata": {
        "id": "Za94CG-k9T34"
      },
      "outputs": [
        {
          "name": "stdout",
          "output_type": "stream",
          "text": [
            "WARNING:tensorflow:From c:\\Users\\HP\\AppData\\Local\\Programs\\Python\\Python311\\Lib\\site-packages\\keras\\src\\backend.py:873: The name tf.get_default_graph is deprecated. Please use tf.compat.v1.get_default_graph instead.\n",
            "\n"
          ]
        }
      ],
      "source": [
        "model = Sequential()\n",
        "\n",
        "model.add(Dense(10,activation='relu',input_dim=2))\n",
        "model.add(Dense(10,activation='relu'))\n",
        "model.add(Dense(1,activation='sigmoid'))"
      ]
    },
    {
      "cell_type": "code",
      "execution_count": 19,
      "metadata": {
        "colab": {
          "base_uri": "https://localhost:8080/"
        },
        "id": "tPqM-ngm9jNg",
        "outputId": "2e387625-ad88-414b-fd2e-9e29aa50c91e"
      },
      "outputs": [
        {
          "name": "stdout",
          "output_type": "stream",
          "text": [
            "Model: \"sequential\"\n",
            "_________________________________________________________________\n",
            " Layer (type)                Output Shape              Param #   \n",
            "=================================================================\n",
            " dense (Dense)               (None, 10)                30        \n",
            "                                                                 \n",
            " dense_1 (Dense)             (None, 10)                110       \n",
            "                                                                 \n",
            " dense_2 (Dense)             (None, 1)                 11        \n",
            "                                                                 \n",
            "=================================================================\n",
            "Total params: 151 (604.00 Byte)\n",
            "Trainable params: 151 (604.00 Byte)\n",
            "Non-trainable params: 0 (0.00 Byte)\n",
            "_________________________________________________________________\n"
          ]
        }
      ],
      "source": [
        "model.summary()"
      ]
    },
    {
      "cell_type": "code",
      "execution_count": 23,
      "metadata": {
        "colab": {
          "base_uri": "https://localhost:8080/"
        },
        "id": "3wFQgC0l9kiM",
        "outputId": "23db678f-301d-4ec0-891d-f3d2cb13e03c"
      },
      "outputs": [
        {
          "name": "stdout",
          "output_type": "stream",
          "text": [
            "Epoch 1/100\n",
            "320/320 [==============================] - 1s 1ms/step - loss: 0.2732 - accuracy: 0.9031 - val_loss: 0.1781 - val_accuracy: 0.9125\n",
            "Epoch 2/100\n",
            "320/320 [==============================] - 0s 1ms/step - loss: 0.2732 - accuracy: 0.9062 - val_loss: 0.1637 - val_accuracy: 0.9500\n",
            "Epoch 3/100\n",
            "320/320 [==============================] - 0s 1ms/step - loss: 0.2760 - accuracy: 0.9031 - val_loss: 0.1858 - val_accuracy: 0.9000\n",
            "Epoch 4/100\n",
            "320/320 [==============================] - 0s 1ms/step - loss: 0.2650 - accuracy: 0.9062 - val_loss: 0.1541 - val_accuracy: 0.9750\n",
            "Epoch 5/100\n",
            "320/320 [==============================] - 0s 1ms/step - loss: 0.2656 - accuracy: 0.9031 - val_loss: 0.1819 - val_accuracy: 0.9125\n",
            "Epoch 6/100\n",
            "320/320 [==============================] - 0s 1ms/step - loss: 0.2616 - accuracy: 0.9094 - val_loss: 0.1706 - val_accuracy: 0.9375\n",
            "Epoch 7/100\n",
            "320/320 [==============================] - 0s 1ms/step - loss: 0.2643 - accuracy: 0.9156 - val_loss: 0.2152 - val_accuracy: 0.8875\n",
            "Epoch 8/100\n",
            "320/320 [==============================] - 0s 1ms/step - loss: 0.2632 - accuracy: 0.9125 - val_loss: 0.2031 - val_accuracy: 0.8875\n",
            "Epoch 9/100\n",
            "320/320 [==============================] - 0s 1ms/step - loss: 0.2635 - accuracy: 0.9062 - val_loss: 0.1997 - val_accuracy: 0.9000\n",
            "Epoch 10/100\n",
            "320/320 [==============================] - 0s 1ms/step - loss: 0.2599 - accuracy: 0.9156 - val_loss: 0.1986 - val_accuracy: 0.9000\n",
            "Epoch 11/100\n",
            "320/320 [==============================] - 0s 1ms/step - loss: 0.2605 - accuracy: 0.9125 - val_loss: 0.1783 - val_accuracy: 0.9125\n",
            "Epoch 12/100\n",
            "320/320 [==============================] - 0s 1ms/step - loss: 0.2626 - accuracy: 0.9062 - val_loss: 0.1897 - val_accuracy: 0.9000\n",
            "Epoch 13/100\n",
            "320/320 [==============================] - 0s 1ms/step - loss: 0.2654 - accuracy: 0.9094 - val_loss: 0.1818 - val_accuracy: 0.9000\n",
            "Epoch 14/100\n",
            "320/320 [==============================] - 0s 941us/step - loss: 0.2608 - accuracy: 0.9094 - val_loss: 0.1847 - val_accuracy: 0.9000\n",
            "Epoch 15/100\n",
            "320/320 [==============================] - 0s 1ms/step - loss: 0.2609 - accuracy: 0.9094 - val_loss: 0.2080 - val_accuracy: 0.9000\n",
            "Epoch 16/100\n",
            "320/320 [==============================] - 0s 1ms/step - loss: 0.2600 - accuracy: 0.9094 - val_loss: 0.1891 - val_accuracy: 0.9000\n",
            "Epoch 17/100\n",
            "320/320 [==============================] - 0s 1ms/step - loss: 0.2589 - accuracy: 0.9062 - val_loss: 0.2076 - val_accuracy: 0.9000\n",
            "Epoch 18/100\n",
            "320/320 [==============================] - 0s 1ms/step - loss: 0.2575 - accuracy: 0.9094 - val_loss: 0.2104 - val_accuracy: 0.9000\n",
            "Epoch 19/100\n",
            "320/320 [==============================] - 0s 1ms/step - loss: 0.2570 - accuracy: 0.9094 - val_loss: 0.1791 - val_accuracy: 0.9125\n",
            "Epoch 20/100\n",
            "320/320 [==============================] - 0s 992us/step - loss: 0.2576 - accuracy: 0.9094 - val_loss: 0.1835 - val_accuracy: 0.9125\n",
            "Epoch 21/100\n",
            "320/320 [==============================] - 0s 1ms/step - loss: 0.2604 - accuracy: 0.9062 - val_loss: 0.1812 - val_accuracy: 0.9000\n",
            "Epoch 22/100\n",
            "320/320 [==============================] - 0s 989us/step - loss: 0.2618 - accuracy: 0.9094 - val_loss: 0.2321 - val_accuracy: 0.9000\n",
            "Epoch 23/100\n",
            "320/320 [==============================] - 0s 989us/step - loss: 0.2634 - accuracy: 0.9094 - val_loss: 0.1945 - val_accuracy: 0.9000\n",
            "Epoch 24/100\n",
            "320/320 [==============================] - 0s 993us/step - loss: 0.2593 - accuracy: 0.9062 - val_loss: 0.2025 - val_accuracy: 0.9000\n",
            "Epoch 25/100\n",
            "320/320 [==============================] - 0s 993us/step - loss: 0.2615 - accuracy: 0.9125 - val_loss: 0.2071 - val_accuracy: 0.9000\n",
            "Epoch 26/100\n",
            "320/320 [==============================] - 0s 993us/step - loss: 0.2658 - accuracy: 0.9094 - val_loss: 0.2364 - val_accuracy: 0.9000\n",
            "Epoch 27/100\n",
            "320/320 [==============================] - 0s 940us/step - loss: 0.2621 - accuracy: 0.9062 - val_loss: 0.2237 - val_accuracy: 0.9000\n",
            "Epoch 28/100\n",
            "320/320 [==============================] - 0s 993us/step - loss: 0.2594 - accuracy: 0.9125 - val_loss: 0.1940 - val_accuracy: 0.9000\n",
            "Epoch 29/100\n",
            "320/320 [==============================] - 0s 940us/step - loss: 0.2611 - accuracy: 0.9094 - val_loss: 0.1853 - val_accuracy: 0.9000\n",
            "Epoch 30/100\n",
            "320/320 [==============================] - 0s 1ms/step - loss: 0.2624 - accuracy: 0.9062 - val_loss: 0.1902 - val_accuracy: 0.9000\n",
            "Epoch 31/100\n",
            "320/320 [==============================] - 0s 993us/step - loss: 0.2637 - accuracy: 0.9062 - val_loss: 0.1859 - val_accuracy: 0.9000\n",
            "Epoch 32/100\n",
            "320/320 [==============================] - 0s 993us/step - loss: 0.2637 - accuracy: 0.9062 - val_loss: 0.2083 - val_accuracy: 0.9000\n",
            "Epoch 33/100\n",
            "320/320 [==============================] - 0s 993us/step - loss: 0.2580 - accuracy: 0.9094 - val_loss: 0.1991 - val_accuracy: 0.9000\n",
            "Epoch 34/100\n",
            "320/320 [==============================] - 0s 992us/step - loss: 0.2566 - accuracy: 0.9094 - val_loss: 0.2006 - val_accuracy: 0.9000\n",
            "Epoch 35/100\n",
            "320/320 [==============================] - 0s 941us/step - loss: 0.2610 - accuracy: 0.9094 - val_loss: 0.2000 - val_accuracy: 0.9000\n",
            "Epoch 36/100\n",
            "320/320 [==============================] - 0s 987us/step - loss: 0.2634 - accuracy: 0.9094 - val_loss: 0.1940 - val_accuracy: 0.9000\n",
            "Epoch 37/100\n",
            "320/320 [==============================] - 0s 940us/step - loss: 0.2571 - accuracy: 0.9062 - val_loss: 0.2060 - val_accuracy: 0.9000\n",
            "Epoch 38/100\n",
            "320/320 [==============================] - 0s 992us/step - loss: 0.2578 - accuracy: 0.9062 - val_loss: 0.1994 - val_accuracy: 0.9000\n",
            "Epoch 39/100\n",
            "320/320 [==============================] - 0s 945us/step - loss: 0.2513 - accuracy: 0.9094 - val_loss: 0.2110 - val_accuracy: 0.9000\n",
            "Epoch 40/100\n",
            "320/320 [==============================] - 0s 992us/step - loss: 0.2589 - accuracy: 0.9094 - val_loss: 0.2102 - val_accuracy: 0.9000\n",
            "Epoch 41/100\n",
            "320/320 [==============================] - 0s 1ms/step - loss: 0.2566 - accuracy: 0.9094 - val_loss: 0.2121 - val_accuracy: 0.9000\n",
            "Epoch 42/100\n",
            "320/320 [==============================] - 0s 993us/step - loss: 0.2516 - accuracy: 0.9094 - val_loss: 0.2171 - val_accuracy: 0.9000\n",
            "Epoch 43/100\n",
            "320/320 [==============================] - 0s 935us/step - loss: 0.2482 - accuracy: 0.9094 - val_loss: 0.2181 - val_accuracy: 0.9000\n",
            "Epoch 44/100\n",
            "320/320 [==============================] - 0s 1ms/step - loss: 0.2535 - accuracy: 0.9062 - val_loss: 0.2031 - val_accuracy: 0.9000\n",
            "Epoch 45/100\n",
            "320/320 [==============================] - 0s 986us/step - loss: 0.2571 - accuracy: 0.9062 - val_loss: 0.1880 - val_accuracy: 0.9125\n",
            "Epoch 46/100\n",
            "320/320 [==============================] - 0s 950us/step - loss: 0.2607 - accuracy: 0.9094 - val_loss: 0.1923 - val_accuracy: 0.9000\n",
            "Epoch 47/100\n",
            "320/320 [==============================] - 0s 983us/step - loss: 0.2571 - accuracy: 0.9125 - val_loss: 0.2075 - val_accuracy: 0.9000\n",
            "Epoch 48/100\n",
            "320/320 [==============================] - 0s 940us/step - loss: 0.2571 - accuracy: 0.9062 - val_loss: 0.2164 - val_accuracy: 0.9000\n",
            "Epoch 49/100\n",
            "320/320 [==============================] - 0s 993us/step - loss: 0.2548 - accuracy: 0.9094 - val_loss: 0.2372 - val_accuracy: 0.8875\n",
            "Epoch 50/100\n",
            "320/320 [==============================] - 0s 993us/step - loss: 0.2567 - accuracy: 0.9062 - val_loss: 0.2147 - val_accuracy: 0.9000\n",
            "Epoch 51/100\n",
            "320/320 [==============================] - 0s 992us/step - loss: 0.2576 - accuracy: 0.9125 - val_loss: 0.2218 - val_accuracy: 0.9000\n",
            "Epoch 52/100\n",
            "320/320 [==============================] - 0s 941us/step - loss: 0.2552 - accuracy: 0.9156 - val_loss: 0.2153 - val_accuracy: 0.9000\n",
            "Epoch 53/100\n",
            "320/320 [==============================] - 0s 945us/step - loss: 0.2492 - accuracy: 0.9094 - val_loss: 0.2260 - val_accuracy: 0.9000\n",
            "Epoch 54/100\n",
            "320/320 [==============================] - 0s 940us/step - loss: 0.2505 - accuracy: 0.9125 - val_loss: 0.2593 - val_accuracy: 0.8875\n",
            "Epoch 55/100\n",
            "320/320 [==============================] - 0s 993us/step - loss: 0.2511 - accuracy: 0.9125 - val_loss: 0.1965 - val_accuracy: 0.9125\n",
            "Epoch 56/100\n",
            "320/320 [==============================] - 0s 993us/step - loss: 0.2489 - accuracy: 0.9062 - val_loss: 0.2323 - val_accuracy: 0.9000\n",
            "Epoch 57/100\n",
            "320/320 [==============================] - 0s 992us/step - loss: 0.2431 - accuracy: 0.9156 - val_loss: 0.2018 - val_accuracy: 0.9000\n",
            "Epoch 58/100\n",
            "320/320 [==============================] - 0s 944us/step - loss: 0.2479 - accuracy: 0.9094 - val_loss: 0.2261 - val_accuracy: 0.9000\n",
            "Epoch 59/100\n",
            "320/320 [==============================] - 0s 989us/step - loss: 0.2490 - accuracy: 0.9125 - val_loss: 0.2583 - val_accuracy: 0.9000\n",
            "Epoch 60/100\n",
            "320/320 [==============================] - 0s 941us/step - loss: 0.2515 - accuracy: 0.9156 - val_loss: 0.2402 - val_accuracy: 0.9000\n",
            "Epoch 61/100\n",
            "320/320 [==============================] - 0s 993us/step - loss: 0.2520 - accuracy: 0.9094 - val_loss: 0.2380 - val_accuracy: 0.9000\n",
            "Epoch 62/100\n",
            "320/320 [==============================] - 0s 941us/step - loss: 0.2591 - accuracy: 0.9094 - val_loss: 0.2506 - val_accuracy: 0.9000\n",
            "Epoch 63/100\n",
            "320/320 [==============================] - 0s 993us/step - loss: 0.2520 - accuracy: 0.9125 - val_loss: 0.2313 - val_accuracy: 0.9000\n",
            "Epoch 64/100\n",
            "320/320 [==============================] - 0s 1ms/step - loss: 0.2535 - accuracy: 0.9125 - val_loss: 0.2720 - val_accuracy: 0.9000\n",
            "Epoch 65/100\n",
            "320/320 [==============================] - 0s 987us/step - loss: 0.2572 - accuracy: 0.9156 - val_loss: 0.2457 - val_accuracy: 0.9000\n",
            "Epoch 66/100\n",
            "320/320 [==============================] - 0s 991us/step - loss: 0.2496 - accuracy: 0.9156 - val_loss: 0.2756 - val_accuracy: 0.9000\n",
            "Epoch 67/100\n",
            "320/320 [==============================] - 0s 936us/step - loss: 0.2488 - accuracy: 0.9187 - val_loss: 0.2179 - val_accuracy: 0.9000\n",
            "Epoch 68/100\n",
            "320/320 [==============================] - 0s 1ms/step - loss: 0.2590 - accuracy: 0.9125 - val_loss: 0.2097 - val_accuracy: 0.9000\n",
            "Epoch 69/100\n",
            "320/320 [==============================] - 0s 935us/step - loss: 0.2497 - accuracy: 0.9094 - val_loss: 0.2606 - val_accuracy: 0.9000\n",
            "Epoch 70/100\n",
            "320/320 [==============================] - 0s 1ms/step - loss: 0.2506 - accuracy: 0.9094 - val_loss: 0.2441 - val_accuracy: 0.9000\n",
            "Epoch 71/100\n",
            "320/320 [==============================] - 0s 935us/step - loss: 0.2486 - accuracy: 0.9156 - val_loss: 0.2206 - val_accuracy: 0.9000\n",
            "Epoch 72/100\n",
            "320/320 [==============================] - 0s 942us/step - loss: 0.2485 - accuracy: 0.9125 - val_loss: 0.2823 - val_accuracy: 0.9000\n",
            "Epoch 73/100\n",
            "320/320 [==============================] - 0s 940us/step - loss: 0.2464 - accuracy: 0.9094 - val_loss: 0.2681 - val_accuracy: 0.9000\n",
            "Epoch 74/100\n",
            "320/320 [==============================] - 0s 993us/step - loss: 0.2485 - accuracy: 0.9094 - val_loss: 0.2416 - val_accuracy: 0.9000\n",
            "Epoch 75/100\n",
            "320/320 [==============================] - 0s 993us/step - loss: 0.2484 - accuracy: 0.9125 - val_loss: 0.2908 - val_accuracy: 0.9000\n",
            "Epoch 76/100\n",
            "320/320 [==============================] - 0s 993us/step - loss: 0.2511 - accuracy: 0.9094 - val_loss: 0.2661 - val_accuracy: 0.9000\n",
            "Epoch 77/100\n",
            "320/320 [==============================] - 0s 993us/step - loss: 0.2515 - accuracy: 0.9125 - val_loss: 0.2598 - val_accuracy: 0.9000\n",
            "Epoch 78/100\n",
            "320/320 [==============================] - 0s 941us/step - loss: 0.2496 - accuracy: 0.9156 - val_loss: 0.2487 - val_accuracy: 0.9000\n",
            "Epoch 79/100\n",
            "320/320 [==============================] - 0s 940us/step - loss: 0.2526 - accuracy: 0.9094 - val_loss: 0.3089 - val_accuracy: 0.8875\n",
            "Epoch 80/100\n",
            "320/320 [==============================] - 0s 1ms/step - loss: 0.2561 - accuracy: 0.9156 - val_loss: 0.2573 - val_accuracy: 0.9000\n",
            "Epoch 81/100\n",
            "320/320 [==============================] - 0s 935us/step - loss: 0.2569 - accuracy: 0.9094 - val_loss: 0.2829 - val_accuracy: 0.9000\n",
            "Epoch 82/100\n",
            "320/320 [==============================] - 0s 941us/step - loss: 0.2521 - accuracy: 0.9125 - val_loss: 0.2917 - val_accuracy: 0.9000\n",
            "Epoch 83/100\n",
            "320/320 [==============================] - 0s 989us/step - loss: 0.2523 - accuracy: 0.9125 - val_loss: 0.3234 - val_accuracy: 0.8750\n",
            "Epoch 84/100\n",
            "320/320 [==============================] - 0s 940us/step - loss: 0.2556 - accuracy: 0.9125 - val_loss: 0.3169 - val_accuracy: 0.8750\n",
            "Epoch 85/100\n",
            "320/320 [==============================] - 0s 940us/step - loss: 0.2445 - accuracy: 0.9156 - val_loss: 0.2926 - val_accuracy: 0.9000\n",
            "Epoch 86/100\n",
            "320/320 [==============================] - 0s 940us/step - loss: 0.2520 - accuracy: 0.9125 - val_loss: 0.2791 - val_accuracy: 0.9000\n",
            "Epoch 87/100\n",
            "320/320 [==============================] - 0s 993us/step - loss: 0.2465 - accuracy: 0.9094 - val_loss: 0.2861 - val_accuracy: 0.9000\n",
            "Epoch 88/100\n",
            "320/320 [==============================] - 0s 988us/step - loss: 0.2451 - accuracy: 0.9094 - val_loss: 0.3073 - val_accuracy: 0.8750\n",
            "Epoch 89/100\n",
            "320/320 [==============================] - 0s 940us/step - loss: 0.2536 - accuracy: 0.9156 - val_loss: 0.3187 - val_accuracy: 0.8750\n",
            "Epoch 90/100\n",
            "320/320 [==============================] - 0s 993us/step - loss: 0.2544 - accuracy: 0.9156 - val_loss: 0.3226 - val_accuracy: 0.8750\n",
            "Epoch 91/100\n",
            "320/320 [==============================] - 0s 991us/step - loss: 0.2536 - accuracy: 0.9094 - val_loss: 0.2683 - val_accuracy: 0.9000\n",
            "Epoch 92/100\n",
            "320/320 [==============================] - 0s 941us/step - loss: 0.2478 - accuracy: 0.9125 - val_loss: 0.3351 - val_accuracy: 0.8750\n",
            "Epoch 93/100\n",
            "320/320 [==============================] - 0s 946us/step - loss: 0.2429 - accuracy: 0.9094 - val_loss: 0.3544 - val_accuracy: 0.8625\n",
            "Epoch 94/100\n",
            "320/320 [==============================] - 0s 987us/step - loss: 0.2403 - accuracy: 0.9187 - val_loss: 0.2853 - val_accuracy: 0.8875\n",
            "Epoch 95/100\n",
            "320/320 [==============================] - 0s 945us/step - loss: 0.2548 - accuracy: 0.9062 - val_loss: 0.2818 - val_accuracy: 0.8875\n",
            "Epoch 96/100\n",
            "320/320 [==============================] - 0s 1ms/step - loss: 0.2453 - accuracy: 0.9187 - val_loss: 0.3913 - val_accuracy: 0.8625\n",
            "Epoch 97/100\n",
            "320/320 [==============================] - 0s 993us/step - loss: 0.2465 - accuracy: 0.9187 - val_loss: 0.2777 - val_accuracy: 0.8875\n",
            "Epoch 98/100\n",
            "320/320 [==============================] - 0s 992us/step - loss: 0.2470 - accuracy: 0.9125 - val_loss: 0.2769 - val_accuracy: 0.9000\n",
            "Epoch 99/100\n",
            "320/320 [==============================] - 0s 993us/step - loss: 0.2508 - accuracy: 0.9156 - val_loss: 0.2962 - val_accuracy: 0.8750\n",
            "Epoch 100/100\n",
            "320/320 [==============================] - 0s 992us/step - loss: 0.2462 - accuracy: 0.9125 - val_loss: 0.3090 - val_accuracy: 0.8750\n"
          ]
        }
      ],
      "source": [
        "model.compile(loss='binary_crossentropy',metrics=['accuracy'])\n",
        "#start = time.time()\n",
        "history = model.fit(X_scaled,y,epochs=100,batch_size=1,validation_split=0.2)\n",
        "#print(time.time() - start)"
      ]
    },
    {
      "cell_type": "code",
      "execution_count": 24,
      "metadata": {
        "colab": {
          "base_uri": "https://localhost:8080/",
          "height": 282
        },
        "id": "m-JtlkG2F0J9",
        "outputId": "adecaf74-c65f-43ca-e47f-7250a302cf34"
      },
      "outputs": [
        {
          "data": {
            "image/png": "[encoded data removed]",
            "text/plain": [
              "<Figure size 640x480 with 1 Axes>"
            ]
          },
          "metadata": {},
          "output_type": "display_data"
        }
      ],
      "source": [
        "import matplotlib.pyplot as plt\n",
        "plt.plot(history.history['loss'])\n",
        "plt.title('Model Training Loss')\n",
        "plt.xlabel('Epoch')\n",
        "plt.ylabel('Loss')\n",
        "plt.show()"
      ]
    },
    {
      "cell_type": "code",
      "execution_count": 25,
      "metadata": {
        "id": "6QqNs9zpJFim"
      },
      "outputs": [],
      "source": [
        "model = Sequential()\n",
        "\n",
        "model.add(Dense(10,activation='relu',input_dim=2))\n",
        "model.add(Dense(10,activation='relu'))\n",
        "model.add(Dense(1,activation='sigmoid'))"
      ]
    },
    {
      "cell_type": "code",
      "execution_count": 26,
      "metadata": {
        "colab": {
          "base_uri": "https://localhost:8080/"
        },
        "id": "-tB-KPBWJIip",
        "outputId": "6f3e03eb-d865-4bda-c4fe-927542600cc3"
      },
      "outputs": [
        {
          "name": "stdout",
          "output_type": "stream",
          "text": [
            "Epoch 1/10\n",
            "2/2 [==============================] - 0s 133ms/step - loss: 0.6338 - accuracy: 0.7125 - val_loss: 0.7590 - val_accuracy: 0.3625\n",
            "Epoch 2/10\n",
            "2/2 [==============================] - 0s 21ms/step - loss: 0.6214 - accuracy: 0.7125 - val_loss: 0.7550 - val_accuracy: 0.3625\n",
            "Epoch 3/10\n",
            "2/2 [==============================] - 0s 34ms/step - loss: 0.6134 - accuracy: 0.7125 - val_loss: 0.7529 - val_accuracy: 0.3625\n",
            "Epoch 4/10\n",
            "2/2 [==============================] - 0s 31ms/step - loss: 0.6063 - accuracy: 0.7125 - val_loss: 0.7510 - val_accuracy: 0.3625\n",
            "Epoch 5/10\n",
            "2/2 [==============================] - 0s 34ms/step - loss: 0.6000 - accuracy: 0.7125 - val_loss: 0.7487 - val_accuracy: 0.3625\n",
            "Epoch 6/10\n",
            "2/2 [==============================] - 0s 31ms/step - loss: 0.5945 - accuracy: 0.7125 - val_loss: 0.7464 - val_accuracy: 0.3625\n",
            "Epoch 7/10\n",
            "2/2 [==============================] - 0s 34ms/step - loss: 0.5893 - accuracy: 0.7125 - val_loss: 0.7452 - val_accuracy: 0.3625\n",
            "Epoch 8/10\n",
            "2/2 [==============================] - 0s 37ms/step - loss: 0.5843 - accuracy: 0.7125 - val_loss: 0.7445 - val_accuracy: 0.3625\n",
            "Epoch 9/10\n",
            "2/2 [==============================] - 0s 32ms/step - loss: 0.5792 - accuracy: 0.7125 - val_loss: 0.7433 - val_accuracy: 0.3625\n",
            "Epoch 10/10\n",
            "2/2 [==============================] - 0s 32ms/step - loss: 0.5742 - accuracy: 0.7125 - val_loss: 0.7425 - val_accuracy: 0.3625\n"
          ]
        }
      ],
      "source": [
        "model.compile(loss='binary_crossentropy',metrics=['accuracy'])\n",
        "#start = time.time()\n",
        "history = model.fit(X_scaled,y,epochs=10,batch_size=250,validation_split=0.2)\n",
        "#print(time.time() - start)"
      ]
    },
    {
      "cell_type": "code",
      "execution_count": 27,
      "metadata": {
        "colab": {
          "base_uri": "https://localhost:8080/",
          "height": 282
        },
        "id": "d_Q_l-1SK9hY",
        "outputId": "9fafb26f-7ae4-4de8-a57f-f49a2d492c5e"
      },
      "outputs": [
        {
          "data": {
            "text/plain": [
              "[<matplotlib.lines.Line2D at 0x1fef9662e90>]"
            ]
          },
          "execution_count": 27,
          "metadata": {},
          "output_type": "execute_result"
        },
        {
          "data": {
            "image/png": "[encoded data removed]",
            "text/plain": [
              "<Figure size 640x480 with 1 Axes>"
            ]
          },
          "metadata": {},
          "output_type": "display_data"
        }
      ],
      "source": [
        "plt.plot(history.history['loss'])"
      ]
    },
    {
      "cell_type": "code",
      "execution_count": null,
      "metadata": {
        "id": "TUw6Wvc6MdI-"
      },
      "outputs": [],
      "source": []
    }
  ],
  "metadata": {
    "colab": {
      "provenance": []
    },
    "kernelspec": {
      "display_name": "Python 3",
      "name": "python3"
    },
    "language_info": {
      "codemirror_mode": {
        "name": "ipython",
        "version": 3
      },
      "file_extension": ".py",
      "mimetype": "text/x-python",
      "name": "python",
      "nbconvert_exporter": "python",
      "pygments_lexer": "ipython3",
      "version": "3.11.7"
    }
  },
  "nbformat": 4,
  "nbformat_minor": 0
}
