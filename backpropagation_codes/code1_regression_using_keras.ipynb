{
 "cells": [
  {
   "cell_type": "code",
   "execution_count": 4,
   "metadata": {},
   "outputs": [],
   "source": [
    "import numpy as np\n",
    "import pandas as pd\n",
    "import tensorflow\n",
    "import numpy as np\n",
    "import pandas as pd\n",
    "from tensorflow.keras.models import Sequential\n",
    "from keras.layers import Dense"
   ]
  },
  {
   "cell_type": "code",
   "execution_count": 17,
   "metadata": {},
   "outputs": [],
   "source": [
    "df = pd.DataFrame([[8,8,4],[7,9,5],[6,10,6],[5,12,7]], columns=['cgpa', 'profile_score', 'lpa'])"
   ]
  },
  {
   "cell_type": "code",
   "execution_count": 5,
   "metadata": {},
   "outputs": [
    {
     "name": "stdout",
     "output_type": "stream",
     "text": [
      "WARNING:tensorflow:From c:\\Users\\HP\\AppData\\Local\\Programs\\Python\\Python311\\Lib\\site-packages\\keras\\src\\backend.py:873: The name tf.get_default_graph is deprecated. Please use tf.compat.v1.get_default_graph instead.\n",
      "\n"
     ]
    }
   ],
   "source": [
    "model=Sequential()\n",
    "model.add(Dense(2,activation='linear',input_dim=2))\n",
    "model.add(Dense(1,activation='linear'))"
   ]
  },
  {
   "cell_type": "code",
   "execution_count": 6,
   "metadata": {},
   "outputs": [
    {
     "name": "stdout",
     "output_type": "stream",
     "text": [
      "Model: \"sequential\"\n",
      "_________________________________________________________________\n",
      " Layer (type)                Output Shape              Param #   \n",
      "=================================================================\n",
      " dense (Dense)               (None, 2)                 6         \n",
      "                                                                 \n",
      " dense_1 (Dense)             (None, 1)                 3         \n",
      "                                                                 \n",
      "=================================================================\n",
      "Total params: 9 (36.00 Byte)\n",
      "Trainable params: 9 (36.00 Byte)\n",
      "Non-trainable params: 0 (0.00 Byte)\n",
      "_________________________________________________________________\n"
     ]
    }
   ],
   "source": [
    "model.summary()"
   ]
  },
  {
   "cell_type": "code",
   "execution_count": 7,
   "metadata": {},
   "outputs": [
    {
     "data": {
      "text/plain": [
       "[array([[-0.14637828, -0.94101155],\n",
       "        [ 0.04034972, -0.118716  ]], dtype=float32),\n",
       " array([0., 0.], dtype=float32),\n",
       " array([[ 0.7387179 ],\n",
       "        [-0.07587039]], dtype=float32),\n",
       " array([0.], dtype=float32)]"
      ]
     },
     "execution_count": 7,
     "metadata": {},
     "output_type": "execute_result"
    }
   ],
   "source": [
    "model.get_weights()#as keras initializes w and b from its own"
   ]
  },
  {
   "cell_type": "code",
   "execution_count": 8,
   "metadata": {},
   "outputs": [],
   "source": [
    "new_weights=[np.array([[0.1,0.1],[0.1,0.1]],dtype=np.float32),\n",
    "             np.array([0.,0.],dtype=np.float32),\n",
    "             np.array([[0.1],[0.1]],dtype=np.float32),\n",
    "             np.array([0.],dtype=np.float32)]"
   ]
  },
  {
   "cell_type": "code",
   "execution_count": 9,
   "metadata": {},
   "outputs": [],
   "source": [
    "model.set_weights(new_weights)"
   ]
  },
  {
   "cell_type": "code",
   "execution_count": 12,
   "metadata": {},
   "outputs": [
    {
     "data": {
      "text/plain": [
       "[array([[0.1, 0.1],\n",
       "        [0.1, 0.1]], dtype=float32),\n",
       " array([0., 0.], dtype=float32),\n",
       " array([[0.1],\n",
       "        [0.1]], dtype=float32),\n",
       " array([0.], dtype=float32)]"
      ]
     },
     "execution_count": 12,
     "metadata": {},
     "output_type": "execute_result"
    }
   ],
   "source": [
    "model.get_weights()"
   ]
  },
  {
   "cell_type": "code",
   "execution_count": 14,
   "metadata": {},
   "outputs": [],
   "source": [
    "import keras"
   ]
  },
  {
   "cell_type": "code",
   "execution_count": 15,
   "metadata": {},
   "outputs": [],
   "source": [
    "optimizer=keras.optimizers.Adam(learning_rate=0.001)"
   ]
  },
  {
   "cell_type": "code",
   "execution_count": 16,
   "metadata": {},
   "outputs": [],
   "source": [
    "model.compile(loss='mean_squared_error',optimizer=optimizer)"
   ]
  },
  {
   "cell_type": "code",
   "execution_count": 18,
   "metadata": {},
   "outputs": [
    {
     "name": "stdout",
     "output_type": "stream",
     "text": [
      "Epoch 1/100\n",
      "WARNING:tensorflow:From c:\\Users\\HP\\AppData\\Local\\Programs\\Python\\Python311\\Lib\\site-packages\\keras\\src\\utils\\tf_utils.py:492: The name tf.ragged.RaggedTensorValue is deprecated. Please use tf.compat.v1.ragged.RaggedTensorValue instead.\n",
      "\n",
      "4/4 [==============================] - 0s 5ms/step - loss: 27.9075\n",
      "Epoch 2/100\n",
      "4/4 [==============================] - 0s 2ms/step - loss: 27.5691\n",
      "Epoch 3/100\n",
      "4/4 [==============================] - 0s 2ms/step - loss: 27.2426\n",
      "Epoch 4/100\n",
      "4/4 [==============================] - 0s 5ms/step - loss: 26.9402\n",
      "Epoch 5/100\n",
      "4/4 [==============================] - 0s 3ms/step - loss: 26.5759\n",
      "Epoch 6/100\n",
      "4/4 [==============================] - 0s 5ms/step - loss: 26.2004\n",
      "Epoch 7/100\n",
      "4/4 [==============================] - 0s 1ms/step - loss: 25.8230\n",
      "Epoch 8/100\n",
      "4/4 [==============================] - 0s 2ms/step - loss: 25.4693\n",
      "Epoch 9/100\n",
      "4/4 [==============================] - 0s 3ms/step - loss: 25.0622\n",
      "Epoch 10/100\n",
      "4/4 [==============================] - 0s 2ms/step - loss: 24.6591\n",
      "Epoch 11/100\n",
      "4/4 [==============================] - 0s 0s/step - loss: 24.2505\n",
      "Epoch 12/100\n",
      "4/4 [==============================] - 0s 3ms/step - loss: 23.8483\n",
      "Epoch 13/100\n",
      "4/4 [==============================] - 0s 3ms/step - loss: 23.3977\n",
      "Epoch 14/100\n",
      "4/4 [==============================] - 0s 2ms/step - loss: 22.9185\n",
      "Epoch 15/100\n",
      "4/4 [==============================] - 0s 4ms/step - loss: 22.4796\n",
      "Epoch 16/100\n",
      "4/4 [==============================] - 0s 3ms/step - loss: 22.0264\n",
      "Epoch 17/100\n",
      "4/4 [==============================] - 0s 1ms/step - loss: 21.5309\n",
      "Epoch 18/100\n",
      "4/4 [==============================] - 0s 3ms/step - loss: 21.0737\n",
      "Epoch 19/100\n",
      "4/4 [==============================] - 0s 3ms/step - loss: 20.5703\n",
      "Epoch 20/100\n",
      "4/4 [==============================] - 0s 373us/step - loss: 20.1149\n",
      "Epoch 21/100\n",
      "4/4 [==============================] - 0s 3ms/step - loss: 19.5497\n",
      "Epoch 22/100\n",
      "4/4 [==============================] - 0s 854us/step - loss: 19.1013\n",
      "Epoch 23/100\n",
      "4/4 [==============================] - 0s 2ms/step - loss: 18.5396\n",
      "Epoch 24/100\n",
      "4/4 [==============================] - 0s 0s/step - loss: 18.0657\n",
      "Epoch 25/100\n",
      "4/4 [==============================] - 0s 3ms/step - loss: 17.5368\n",
      "Epoch 26/100\n",
      "4/4 [==============================] - 0s 0s/step - loss: 16.9943\n",
      "Epoch 27/100\n",
      "4/4 [==============================] - 0s 3ms/step - loss: 16.4214\n",
      "Epoch 28/100\n",
      "4/4 [==============================] - 0s 0s/step - loss: 15.9237\n",
      "Epoch 29/100\n",
      "4/4 [==============================] - 0s 3ms/step - loss: 15.4551\n",
      "Epoch 30/100\n",
      "4/4 [==============================] - 0s 354us/step - loss: 14.8561\n",
      "Epoch 31/100\n",
      "4/4 [==============================] - 0s 3ms/step - loss: 14.3600\n",
      "Epoch 32/100\n",
      "4/4 [==============================] - 0s 1ms/step - loss: 13.8945\n",
      "Epoch 33/100\n",
      "4/4 [==============================] - 0s 2ms/step - loss: 13.3085\n",
      "Epoch 34/100\n",
      "4/4 [==============================] - 0s 608us/step - loss: 12.7866\n",
      "Epoch 35/100\n",
      "4/4 [==============================] - 0s 0s/step - loss: 12.2938\n",
      "Epoch 36/100\n",
      "4/4 [==============================] - 0s 0s/step - loss: 11.8193\n",
      "Epoch 37/100\n",
      "4/4 [==============================] - 0s 3ms/step - loss: 11.3357\n",
      "Epoch 38/100\n",
      "4/4 [==============================] - 0s 0s/step - loss: 10.8587\n",
      "Epoch 39/100\n",
      "4/4 [==============================] - 0s 2ms/step - loss: 10.3464\n",
      "Epoch 40/100\n",
      "4/4 [==============================] - 0s 0s/step - loss: 9.8617\n",
      "Epoch 41/100\n",
      "4/4 [==============================] - 0s 201us/step - loss: 9.4549\n",
      "Epoch 42/100\n",
      "4/4 [==============================] - 0s 0s/step - loss: 8.9469\n",
      "Epoch 43/100\n",
      "4/4 [==============================] - 0s 3ms/step - loss: 8.5146\n",
      "Epoch 44/100\n",
      "4/4 [==============================] - 0s 347us/step - loss: 8.1042\n",
      "Epoch 45/100\n",
      "4/4 [==============================] - 0s 2ms/step - loss: 7.7038\n",
      "Epoch 46/100\n",
      "4/4 [==============================] - 0s 3ms/step - loss: 7.3498\n",
      "Epoch 47/100\n",
      "4/4 [==============================] - 0s 0s/step - loss: 6.9259\n",
      "Epoch 48/100\n",
      "4/4 [==============================] - 0s 3ms/step - loss: 6.5342\n",
      "Epoch 49/100\n",
      "4/4 [==============================] - 0s 198us/step - loss: 6.2163\n",
      "Epoch 50/100\n",
      "4/4 [==============================] - 0s 3ms/step - loss: 5.8513\n",
      "Epoch 51/100\n",
      "4/4 [==============================] - 0s 528us/step - loss: 5.5457\n",
      "Epoch 52/100\n",
      "4/4 [==============================] - 0s 2ms/step - loss: 5.1792\n",
      "Epoch 53/100\n",
      "4/4 [==============================] - 0s 319us/step - loss: 4.8761\n",
      "Epoch 54/100\n",
      "4/4 [==============================] - 0s 3ms/step - loss: 4.6536\n",
      "Epoch 55/100\n",
      "4/4 [==============================] - 0s 0s/step - loss: 4.3568\n",
      "Epoch 56/100\n",
      "4/4 [==============================] - 0s 3ms/step - loss: 4.1082\n",
      "Epoch 57/100\n",
      "4/4 [==============================] - 0s 0s/step - loss: 3.8634\n",
      "Epoch 58/100\n",
      "4/4 [==============================] - 0s 3ms/step - loss: 3.6363\n",
      "Epoch 59/100\n",
      "4/4 [==============================] - 0s 439us/step - loss: 3.4354\n",
      "Epoch 60/100\n",
      "4/4 [==============================] - 0s 3ms/step - loss: 3.1712\n",
      "Epoch 61/100\n",
      "4/4 [==============================] - 0s 2ms/step - loss: 3.0168\n",
      "Epoch 62/100\n",
      "4/4 [==============================] - 0s 3ms/step - loss: 2.8847\n",
      "Epoch 63/100\n",
      "4/4 [==============================] - 0s 3ms/step - loss: 2.6563\n",
      "Epoch 64/100\n",
      "4/4 [==============================] - 0s 2ms/step - loss: 2.5204\n",
      "Epoch 65/100\n",
      "4/4 [==============================] - 0s 598us/step - loss: 2.4192\n",
      "Epoch 66/100\n",
      "4/4 [==============================] - 0s 3ms/step - loss: 2.2497\n",
      "Epoch 67/100\n",
      "4/4 [==============================] - 0s 3ms/step - loss: 2.1609\n",
      "Epoch 68/100\n",
      "4/4 [==============================] - 0s 345us/step - loss: 2.0599\n",
      "Epoch 69/100\n",
      "4/4 [==============================] - 0s 1ms/step - loss: 1.9352\n",
      "Epoch 70/100\n",
      "4/4 [==============================] - 0s 3ms/step - loss: 1.8344\n",
      "Epoch 71/100\n",
      "4/4 [==============================] - 0s 2ms/step - loss: 1.7461\n",
      "Epoch 72/100\n",
      "4/4 [==============================] - 0s 1ms/step - loss: 1.7115\n",
      "Epoch 73/100\n",
      "4/4 [==============================] - 0s 3ms/step - loss: 1.5984\n",
      "Epoch 74/100\n",
      "4/4 [==============================] - 0s 0s/step - loss: 1.5408\n",
      "Epoch 75/100\n",
      "4/4 [==============================] - 0s 2ms/step - loss: 1.4868\n",
      "Epoch 76/100\n",
      "4/4 [==============================] - 0s 0s/step - loss: 1.4441\n",
      "Epoch 77/100\n",
      "4/4 [==============================] - 0s 3ms/step - loss: 1.3966\n",
      "Epoch 78/100\n",
      "4/4 [==============================] - 0s 2ms/step - loss: 1.3688\n",
      "Epoch 79/100\n",
      "4/4 [==============================] - 0s 1ms/step - loss: 1.3226\n",
      "Epoch 80/100\n",
      "4/4 [==============================] - 0s 2ms/step - loss: 1.2822\n",
      "Epoch 81/100\n",
      "4/4 [==============================] - 0s 883us/step - loss: 1.2626\n",
      "Epoch 82/100\n",
      "4/4 [==============================] - 0s 3ms/step - loss: 1.2213\n",
      "Epoch 83/100\n",
      "4/4 [==============================] - 0s 2ms/step - loss: 1.1958\n",
      "Epoch 84/100\n",
      "4/4 [==============================] - 0s 3ms/step - loss: 1.1837\n",
      "Epoch 85/100\n",
      "4/4 [==============================] - 0s 3ms/step - loss: 1.1625\n",
      "Epoch 86/100\n",
      "4/4 [==============================] - 0s 3ms/step - loss: 1.1458\n",
      "Epoch 87/100\n",
      "4/4 [==============================] - 0s 2ms/step - loss: 1.1408\n",
      "Epoch 88/100\n",
      "4/4 [==============================] - 0s 1ms/step - loss: 1.1178\n",
      "Epoch 89/100\n",
      "4/4 [==============================] - 0s 2ms/step - loss: 1.1045\n",
      "Epoch 90/100\n",
      "4/4 [==============================] - 0s 973us/step - loss: 1.1024\n",
      "Epoch 91/100\n",
      "4/4 [==============================] - 0s 0s/step - loss: 1.0830\n",
      "Epoch 92/100\n",
      "4/4 [==============================] - 0s 1ms/step - loss: 1.0826\n",
      "Epoch 93/100\n",
      "4/4 [==============================] - 0s 2ms/step - loss: 1.0748\n",
      "Epoch 94/100\n",
      "4/4 [==============================] - 0s 0s/step - loss: 1.0757\n",
      "Epoch 95/100\n",
      "4/4 [==============================] - 0s 0s/step - loss: 1.0642\n",
      "Epoch 96/100\n",
      "4/4 [==============================] - 0s 1ms/step - loss: 1.0569\n",
      "Epoch 97/100\n",
      "4/4 [==============================] - 0s 3ms/step - loss: 1.0476\n",
      "Epoch 98/100\n",
      "4/4 [==============================] - 0s 2ms/step - loss: 1.0501\n",
      "Epoch 99/100\n",
      "4/4 [==============================] - 0s 3ms/step - loss: 1.0456\n",
      "Epoch 100/100\n",
      "4/4 [==============================] - 0s 3ms/step - loss: 1.0371\n"
     ]
    },
    {
     "data": {
      "text/plain": [
       "<keras.src.callbacks.History at 0x2db21b50b50>"
      ]
     },
     "execution_count": 18,
     "metadata": {},
     "output_type": "execute_result"
    }
   ],
   "source": [
    "model.fit(df.iloc[:,0:-1].values,df['lpa'].values,epochs=100,verbose=1,batch_size=1)"
   ]
  },
  {
   "cell_type": "code",
   "execution_count": 19,
   "metadata": {},
   "outputs": [
    {
     "data": {
      "text/plain": [
       "[array([[0.38449863, 0.38449863],\n",
       "        [0.39109653, 0.39109653]], dtype=float32),\n",
       " array([0.29207435, 0.29207435], dtype=float32),\n",
       " array([[0.39357442],\n",
       "        [0.39357442]], dtype=float32),\n",
       " array([0.21584797], dtype=float32)]"
      ]
     },
     "execution_count": 19,
     "metadata": {},
     "output_type": "execute_result"
    }
   ],
   "source": [
    "model.get_weights()"
   ]
  },
  {
   "cell_type": "code",
   "execution_count": null,
   "metadata": {},
   "outputs": [],
   "source": []
  }
 ],
 "metadata": {
  "kernelspec": {
   "display_name": "Python 3",
   "language": "python",
   "name": "python3"
  },
  "language_info": {
   "codemirror_mode": {
    "name": "ipython",
    "version": 3
   },
   "file_extension": ".py",
   "mimetype": "text/x-python",
   "name": "python",
   "nbconvert_exporter": "python",
   "pygments_lexer": "ipython3",
   "version": "3.11.7"
  }
 },
 "nbformat": 4,
 "nbformat_minor": 2
}
