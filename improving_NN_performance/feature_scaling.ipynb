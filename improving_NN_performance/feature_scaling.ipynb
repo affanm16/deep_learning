{
  "cells": [
    {
      "cell_type": "code",
      "execution_count": 9,
      "metadata": {
        "id": "hScZJyw76MPF"
      },
      "outputs": [
        {
          "name": "stdout",
          "output_type": "stream",
          "text": [
            "WARNING:tensorflow:From c:\\Users\\HP\\AppData\\Local\\Programs\\Python\\Python311\\Lib\\site-packages\\keras\\src\\losses.py:2976: The name tf.losses.sparse_softmax_cross_entropy is deprecated. Please use tf.compat.v1.losses.sparse_softmax_cross_entropy instead.\n",
            "\n"
          ]
        }
      ],
      "source": [
        "import numpy as np\n",
        "import pandas as pd\n",
        "import keras"
      ]
    },
    {
      "cell_type": "code",
      "execution_count": 2,
      "metadata": {
        "id": "FsS0g0hH61Lk"
      },
      "outputs": [],
      "source": [
        "df = pd.read_csv('D:/github-programs/deep_learning/datsets/Social_Network_Ads.csv')"
      ]
    },
    {
      "cell_type": "code",
      "execution_count": 3,
      "metadata": {
        "colab": {
          "base_uri": "https://localhost:8080/",
          "height": 206
        },
        "id": "jMpQva9366fP",
        "outputId": "2dd52c89-561b-4762-ca09-24625c74393c"
      },
      "outputs": [
        {
          "data": {
            "text/html": [
              "<div>\n",
              "<style scoped>\n",
              "    .dataframe tbody tr th:only-of-type {\n",
              "        vertical-align: middle;\n",
              "    }\n",
              "\n",
              "    .dataframe tbody tr th {\n",
              "        vertical-align: top;\n",
              "    }\n",
              "\n",
              "    .dataframe thead th {\n",
              "        text-align: right;\n",
              "    }\n",
              "</style>\n",
              "<table border=\"1\" class=\"dataframe\">\n",
              "  <thead>\n",
              "    <tr style=\"text-align: right;\">\n",
              "      <th></th>\n",
              "      <th>Age</th>\n",
              "      <th>EstimatedSalary</th>\n",
              "      <th>Purchased</th>\n",
              "    </tr>\n",
              "  </thead>\n",
              "  <tbody>\n",
              "    <tr>\n",
              "      <th>0</th>\n",
              "      <td>19</td>\n",
              "      <td>19000</td>\n",
              "      <td>0</td>\n",
              "    </tr>\n",
              "    <tr>\n",
              "      <th>1</th>\n",
              "      <td>35</td>\n",
              "      <td>20000</td>\n",
              "      <td>0</td>\n",
              "    </tr>\n",
              "    <tr>\n",
              "      <th>2</th>\n",
              "      <td>26</td>\n",
              "      <td>43000</td>\n",
              "      <td>0</td>\n",
              "    </tr>\n",
              "    <tr>\n",
              "      <th>3</th>\n",
              "      <td>27</td>\n",
              "      <td>57000</td>\n",
              "      <td>0</td>\n",
              "    </tr>\n",
              "    <tr>\n",
              "      <th>4</th>\n",
              "      <td>19</td>\n",
              "      <td>76000</td>\n",
              "      <td>0</td>\n",
              "    </tr>\n",
              "  </tbody>\n",
              "</table>\n",
              "</div>"
            ],
            "text/plain": [
              "   Age  EstimatedSalary  Purchased\n",
              "0   19            19000          0\n",
              "1   35            20000          0\n",
              "2   26            43000          0\n",
              "3   27            57000          0\n",
              "4   19            76000          0"
            ]
          },
          "execution_count": 3,
          "metadata": {},
          "output_type": "execute_result"
        }
      ],
      "source": [
        "df = df.iloc[:,2:]\n",
        "df.head()"
      ]
    },
    {
      "cell_type": "code",
      "execution_count": 4,
      "metadata": {
        "id": "ohok4R2Y69um"
      },
      "outputs": [],
      "source": [
        "import seaborn as sns"
      ]
    },
    {
      "cell_type": "code",
      "execution_count": 6,
      "metadata": {
        "colab": {
          "base_uri": "https://localhost:8080/",
          "height": 352
        },
        "id": "ZnBaOdwl7U2y",
        "outputId": "da6e771b-e971-4aeb-e73d-869f8a29d0ca"
      },
      "outputs": [
        {
          "data": {
            "text/plain": [
              "<Axes: xlabel='Age', ylabel='EstimatedSalary'>"
            ]
          },
          "execution_count": 6,
          "metadata": {},
          "output_type": "execute_result"
        },
        {
          "data": {
            "image/png": "[encoded data removed]",
            "text/plain": [
              "<Figure size 640x480 with 1 Axes>"
            ]
          },
          "metadata": {},
          "output_type": "display_data"
        }
      ],
      "source": [
        "sns.scatterplot(x=df.iloc[:,0],y=df.iloc[:,1])"
      ]
    },
    {
      "cell_type": "code",
      "execution_count": 7,
      "metadata": {
        "id": "z6bzi-427cKi"
      },
      "outputs": [],
      "source": [
        "X = df.iloc[:,0:2]\n",
        "y = df.iloc[:,-1]"
      ]
    },
    {
      "cell_type": "code",
      "execution_count": 8,
      "metadata": {
        "id": "YSPIQzY97i_C"
      },
      "outputs": [],
      "source": [
        "from sklearn.model_selection import train_test_split\n",
        "X_train,X_test,y_train,y_test = train_test_split(X,y,test_size=0.2,random_state=2)"
      ]
    },
    {
      "cell_type": "code",
      "execution_count": 10,
      "metadata": {
        "id": "Y32nU_KD7udn"
      },
      "outputs": [],
      "source": [
        "import tensorflow as tf\n",
        "from tensorflow import keras\n",
        "from keras import Sequential\n",
        "from keras.layers import Dense"
      ]
    },
    {
      "cell_type": "code",
      "execution_count": 11,
      "metadata": {
        "id": "KdFmkN8h745Y"
      },
      "outputs": [
        {
          "name": "stdout",
          "output_type": "stream",
          "text": [
            "WARNING:tensorflow:From c:\\Users\\HP\\AppData\\Local\\Programs\\Python\\Python311\\Lib\\site-packages\\keras\\src\\backend.py:873: The name tf.get_default_graph is deprecated. Please use tf.compat.v1.get_default_graph instead.\n",
            "\n"
          ]
        }
      ],
      "source": [
        "model = Sequential()\n",
        "\n",
        "model.add(Dense(128,activation='relu',input_dim=2))\n",
        "model.add(Dense(1,activation='sigmoid'))"
      ]
    },
    {
      "cell_type": "code",
      "execution_count": 13,
      "metadata": {
        "colab": {
          "base_uri": "https://localhost:8080/"
        },
        "id": "F6xRTNvI9GMq",
        "outputId": "fba13e1a-815d-4515-92c8-112d1e6d6cc4"
      },
      "outputs": [
        {
          "name": "stdout",
          "output_type": "stream",
          "text": [
            "Model: \"sequential\"\n",
            "_________________________________________________________________\n",
            " Layer (type)                Output Shape              Param #   \n",
            "=================================================================\n",
            " dense (Dense)               (None, 128)               384       \n",
            "                                                                 \n",
            " dense_1 (Dense)             (None, 1)                 129       \n",
            "                                                                 \n",
            "=================================================================\n",
            "Total params: 513 (2.00 KB)\n",
            "Trainable params: 513 (2.00 KB)\n",
            "Non-trainable params: 0 (0.00 Byte)\n",
            "_________________________________________________________________\n"
          ]
        }
      ],
      "source": [
        "model.summary()"
      ]
    },
    {
      "cell_type": "code",
      "execution_count": 14,
      "metadata": {
        "id": "uvLbTt9S_ByW"
      },
      "outputs": [
        {
          "name": "stdout",
          "output_type": "stream",
          "text": [
            "WARNING:tensorflow:From c:\\Users\\HP\\AppData\\Local\\Programs\\Python\\Python311\\Lib\\site-packages\\keras\\src\\optimizers\\__init__.py:309: The name tf.train.Optimizer is deprecated. Please use tf.compat.v1.train.Optimizer instead.\n",
            "\n"
          ]
        }
      ],
      "source": [
        "model.compile(optimizer='adam',loss='binary_crossentropy',metrics=['accuracy'])"
      ]
    },
    {
      "cell_type": "code",
      "execution_count": 15,
      "metadata": {
        "colab": {
          "base_uri": "https://localhost:8080/"
        },
        "id": "ZaKyBN1B_LTa",
        "outputId": "25217972-baca-43d8-a6ea-ff8a88cd9e73"
      },
      "outputs": [
        {
          "name": "stdout",
          "output_type": "stream",
          "text": [
            "Epoch 1/100\n",
            "WARNING:tensorflow:From c:\\Users\\HP\\AppData\\Local\\Programs\\Python\\Python311\\Lib\\site-packages\\keras\\src\\utils\\tf_utils.py:492: The name tf.ragged.RaggedTensorValue is deprecated. Please use tf.compat.v1.ragged.RaggedTensorValue instead.\n",
            "\n",
            "WARNING:tensorflow:From c:\\Users\\HP\\AppData\\Local\\Programs\\Python\\Python311\\Lib\\site-packages\\keras\\src\\engine\\base_layer_utils.py:384: The name tf.executing_eagerly_outside_functions is deprecated. Please use tf.compat.v1.executing_eagerly_outside_functions instead.\n",
            "\n",
            "10/10 [==============================] - 1s 24ms/step - loss: 766.0089 - accuracy: 0.5219 - val_loss: 548.9337 - val_accuracy: 0.6000\n",
            "Epoch 2/100\n",
            "10/10 [==============================] - 0s 6ms/step - loss: 227.5467 - accuracy: 0.4469 - val_loss: 242.8044 - val_accuracy: 0.6000\n",
            "Epoch 3/100\n",
            "10/10 [==============================] - 0s 6ms/step - loss: 139.5049 - accuracy: 0.5531 - val_loss: 20.7027 - val_accuracy: 0.4000\n",
            "Epoch 4/100\n",
            "10/10 [==============================] - 0s 5ms/step - loss: 131.0554 - accuracy: 0.5031 - val_loss: 99.6875 - val_accuracy: 0.4000\n",
            "Epoch 5/100\n",
            "10/10 [==============================] - 0s 6ms/step - loss: 96.9997 - accuracy: 0.4719 - val_loss: 32.7732 - val_accuracy: 0.6000\n",
            "Epoch 6/100\n",
            "10/10 [==============================] - 0s 5ms/step - loss: 90.8778 - accuracy: 0.5156 - val_loss: 114.6856 - val_accuracy: 0.6000\n",
            "Epoch 7/100\n",
            "10/10 [==============================] - 0s 7ms/step - loss: 75.0904 - accuracy: 0.5219 - val_loss: 10.5010 - val_accuracy: 0.6000\n",
            "Epoch 8/100\n",
            "10/10 [==============================] - 0s 6ms/step - loss: 88.4082 - accuracy: 0.5156 - val_loss: 74.3573 - val_accuracy: 0.4000\n",
            "Epoch 9/100\n",
            "10/10 [==============================] - 0s 5ms/step - loss: 60.1988 - accuracy: 0.4781 - val_loss: 42.2728 - val_accuracy: 0.6000\n",
            "Epoch 10/100\n",
            "10/10 [==============================] - 0s 6ms/step - loss: 31.1955 - accuracy: 0.5469 - val_loss: 22.3990 - val_accuracy: 0.6000\n",
            "Epoch 11/100\n",
            "10/10 [==============================] - 0s 5ms/step - loss: 22.8059 - accuracy: 0.5406 - val_loss: 12.2281 - val_accuracy: 0.4000\n",
            "Epoch 12/100\n",
            "10/10 [==============================] - 0s 5ms/step - loss: 16.6148 - accuracy: 0.5469 - val_loss: 5.4579 - val_accuracy: 0.6000\n",
            "Epoch 13/100\n",
            "10/10 [==============================] - 0s 4ms/step - loss: 79.1608 - accuracy: 0.4719 - val_loss: 87.2704 - val_accuracy: 0.4000\n",
            "Epoch 14/100\n",
            "10/10 [==============================] - 0s 5ms/step - loss: 102.7308 - accuracy: 0.5219 - val_loss: 246.7342 - val_accuracy: 0.4000\n",
            "Epoch 15/100\n",
            "10/10 [==============================] - 0s 6ms/step - loss: 111.2423 - accuracy: 0.5156 - val_loss: 56.2141 - val_accuracy: 0.4000\n",
            "Epoch 16/100\n",
            "10/10 [==============================] - 0s 4ms/step - loss: 56.1302 - accuracy: 0.5156 - val_loss: 106.4222 - val_accuracy: 0.6000\n",
            "Epoch 17/100\n",
            "10/10 [==============================] - 0s 5ms/step - loss: 80.4987 - accuracy: 0.5469 - val_loss: 14.3507 - val_accuracy: 0.6000\n",
            "Epoch 18/100\n",
            "10/10 [==============================] - 0s 6ms/step - loss: 76.5109 - accuracy: 0.5531 - val_loss: 24.9407 - val_accuracy: 0.4000\n",
            "Epoch 19/100\n",
            "10/10 [==============================] - 0s 5ms/step - loss: 72.9712 - accuracy: 0.4719 - val_loss: 33.3925 - val_accuracy: 0.4000\n",
            "Epoch 20/100\n",
            "10/10 [==============================] - 0s 5ms/step - loss: 68.9185 - accuracy: 0.5469 - val_loss: 82.5531 - val_accuracy: 0.6000\n",
            "Epoch 21/100\n",
            "10/10 [==============================] - 0s 5ms/step - loss: 37.1975 - accuracy: 0.5156 - val_loss: 39.1897 - val_accuracy: 0.4000\n",
            "Epoch 22/100\n",
            "10/10 [==============================] - 0s 5ms/step - loss: 40.7386 - accuracy: 0.5094 - val_loss: 52.0793 - val_accuracy: 0.6000\n",
            "Epoch 23/100\n",
            "10/10 [==============================] - 0s 4ms/step - loss: 62.8619 - accuracy: 0.4219 - val_loss: 30.2130 - val_accuracy: 0.4000\n",
            "Epoch 24/100\n",
            "10/10 [==============================] - 0s 5ms/step - loss: 63.0242 - accuracy: 0.5344 - val_loss: 136.7015 - val_accuracy: 0.6000\n",
            "Epoch 25/100\n",
            "10/10 [==============================] - 0s 6ms/step - loss: 117.8903 - accuracy: 0.4781 - val_loss: 67.0625 - val_accuracy: 0.6000\n",
            "Epoch 26/100\n",
            "10/10 [==============================] - 0s 5ms/step - loss: 41.2492 - accuracy: 0.4594 - val_loss: 91.6282 - val_accuracy: 0.6000\n",
            "Epoch 27/100\n",
            "10/10 [==============================] - 0s 4ms/step - loss: 47.4102 - accuracy: 0.4906 - val_loss: 80.1045 - val_accuracy: 0.6000\n",
            "Epoch 28/100\n",
            "10/10 [==============================] - 0s 5ms/step - loss: 99.6947 - accuracy: 0.5031 - val_loss: 77.5664 - val_accuracy: 0.6000\n",
            "Epoch 29/100\n",
            "10/10 [==============================] - 0s 6ms/step - loss: 33.9753 - accuracy: 0.5406 - val_loss: 50.8433 - val_accuracy: 0.6000\n",
            "Epoch 30/100\n",
            "10/10 [==============================] - 0s 5ms/step - loss: 29.5071 - accuracy: 0.5469 - val_loss: 8.1116 - val_accuracy: 0.4000\n",
            "Epoch 31/100\n",
            "10/10 [==============================] - 0s 6ms/step - loss: 35.5770 - accuracy: 0.5094 - val_loss: 114.1879 - val_accuracy: 0.4000\n",
            "Epoch 32/100\n",
            "10/10 [==============================] - 0s 7ms/step - loss: 67.7389 - accuracy: 0.4594 - val_loss: 91.0692 - val_accuracy: 0.6000\n",
            "Epoch 33/100\n",
            "10/10 [==============================] - 0s 5ms/step - loss: 57.8514 - accuracy: 0.5281 - val_loss: 39.1591 - val_accuracy: 0.4000\n",
            "Epoch 34/100\n",
            "10/10 [==============================] - 0s 5ms/step - loss: 41.9435 - accuracy: 0.5656 - val_loss: 21.2933 - val_accuracy: 0.6000\n",
            "Epoch 35/100\n",
            "10/10 [==============================] - 0s 6ms/step - loss: 59.6777 - accuracy: 0.4969 - val_loss: 1.6602 - val_accuracy: 0.3750\n",
            "Epoch 36/100\n",
            "10/10 [==============================] - 0s 5ms/step - loss: 73.4544 - accuracy: 0.4625 - val_loss: 158.7600 - val_accuracy: 0.6000\n",
            "Epoch 37/100\n",
            "10/10 [==============================] - 0s 4ms/step - loss: 118.8074 - accuracy: 0.4969 - val_loss: 134.3871 - val_accuracy: 0.6000\n",
            "Epoch 38/100\n",
            "10/10 [==============================] - 0s 4ms/step - loss: 138.1428 - accuracy: 0.5344 - val_loss: 1.8494 - val_accuracy: 0.6000\n",
            "Epoch 39/100\n",
            "10/10 [==============================] - 0s 6ms/step - loss: 36.2286 - accuracy: 0.5344 - val_loss: 74.3291 - val_accuracy: 0.4000\n",
            "Epoch 40/100\n",
            "10/10 [==============================] - 0s 6ms/step - loss: 89.8887 - accuracy: 0.5656 - val_loss: 176.6031 - val_accuracy: 0.4000\n",
            "Epoch 41/100\n",
            "10/10 [==============================] - 0s 5ms/step - loss: 74.1973 - accuracy: 0.4844 - val_loss: 69.6374 - val_accuracy: 0.6000\n",
            "Epoch 42/100\n",
            "10/10 [==============================] - 0s 6ms/step - loss: 42.3845 - accuracy: 0.5719 - val_loss: 54.1225 - val_accuracy: 0.4000\n",
            "Epoch 43/100\n",
            "10/10 [==============================] - 0s 6ms/step - loss: 39.2166 - accuracy: 0.5031 - val_loss: 83.0339 - val_accuracy: 0.6000\n",
            "Epoch 44/100\n",
            "10/10 [==============================] - 0s 4ms/step - loss: 62.6481 - accuracy: 0.5531 - val_loss: 44.9516 - val_accuracy: 0.4000\n",
            "Epoch 45/100\n",
            "10/10 [==============================] - 0s 5ms/step - loss: 57.9315 - accuracy: 0.4781 - val_loss: 58.4584 - val_accuracy: 0.6000\n",
            "Epoch 46/100\n",
            "10/10 [==============================] - 0s 5ms/step - loss: 57.4440 - accuracy: 0.5719 - val_loss: 59.2933 - val_accuracy: 0.6000\n",
            "Epoch 47/100\n",
            "10/10 [==============================] - 0s 6ms/step - loss: 29.1728 - accuracy: 0.4656 - val_loss: 70.2407 - val_accuracy: 0.6000\n",
            "Epoch 48/100\n",
            "10/10 [==============================] - 0s 4ms/step - loss: 35.9495 - accuracy: 0.5344 - val_loss: 64.1377 - val_accuracy: 0.6000\n",
            "Epoch 49/100\n",
            "10/10 [==============================] - 0s 5ms/step - loss: 32.4802 - accuracy: 0.5406 - val_loss: 115.3790 - val_accuracy: 0.4000\n",
            "Epoch 50/100\n",
            "10/10 [==============================] - 0s 5ms/step - loss: 85.9801 - accuracy: 0.4969 - val_loss: 86.6416 - val_accuracy: 0.4000\n",
            "Epoch 51/100\n",
            "10/10 [==============================] - 0s 5ms/step - loss: 70.2321 - accuracy: 0.5344 - val_loss: 39.3711 - val_accuracy: 0.6000\n",
            "Epoch 52/100\n",
            "10/10 [==============================] - 0s 6ms/step - loss: 24.2149 - accuracy: 0.5406 - val_loss: 26.1309 - val_accuracy: 0.6000\n",
            "Epoch 53/100\n",
            "10/10 [==============================] - 0s 5ms/step - loss: 18.4147 - accuracy: 0.5594 - val_loss: 2.4127 - val_accuracy: 0.6000\n",
            "Epoch 54/100\n",
            "10/10 [==============================] - 0s 6ms/step - loss: 20.0381 - accuracy: 0.5656 - val_loss: 25.4286 - val_accuracy: 0.6000\n",
            "Epoch 55/100\n",
            "10/10 [==============================] - 0s 5ms/step - loss: 41.9471 - accuracy: 0.5031 - val_loss: 24.5964 - val_accuracy: 0.6000\n",
            "Epoch 56/100\n",
            "10/10 [==============================] - 0s 4ms/step - loss: 21.9070 - accuracy: 0.5094 - val_loss: 14.8946 - val_accuracy: 0.6000\n",
            "Epoch 57/100\n",
            "10/10 [==============================] - 0s 6ms/step - loss: 62.3443 - accuracy: 0.4844 - val_loss: 38.0734 - val_accuracy: 0.4000\n",
            "Epoch 58/100\n",
            "10/10 [==============================] - 0s 4ms/step - loss: 93.1859 - accuracy: 0.4594 - val_loss: 22.6125 - val_accuracy: 0.6000\n",
            "Epoch 59/100\n",
            "10/10 [==============================] - 0s 4ms/step - loss: 34.5821 - accuracy: 0.5156 - val_loss: 24.4651 - val_accuracy: 0.6000\n",
            "Epoch 60/100\n",
            "10/10 [==============================] - 0s 4ms/step - loss: 48.4252 - accuracy: 0.4969 - val_loss: 31.8490 - val_accuracy: 0.6000\n",
            "Epoch 61/100\n",
            "10/10 [==============================] - 0s 5ms/step - loss: 55.8340 - accuracy: 0.5594 - val_loss: 8.9611 - val_accuracy: 0.6000\n",
            "Epoch 62/100\n",
            "10/10 [==============================] - 0s 4ms/step - loss: 98.1679 - accuracy: 0.5594 - val_loss: 10.7099 - val_accuracy: 0.4000\n",
            "Epoch 63/100\n",
            "10/10 [==============================] - 0s 6ms/step - loss: 54.5692 - accuracy: 0.4844 - val_loss: 6.7387 - val_accuracy: 0.6000\n",
            "Epoch 64/100\n",
            "10/10 [==============================] - 0s 5ms/step - loss: 45.2907 - accuracy: 0.5781 - val_loss: 6.1574 - val_accuracy: 0.4000\n",
            "Epoch 65/100\n",
            "10/10 [==============================] - 0s 4ms/step - loss: 30.5206 - accuracy: 0.5031 - val_loss: 105.2249 - val_accuracy: 0.4000\n",
            "Epoch 66/100\n",
            "10/10 [==============================] - 0s 5ms/step - loss: 39.1506 - accuracy: 0.5531 - val_loss: 57.2753 - val_accuracy: 0.4000\n",
            "Epoch 67/100\n",
            "10/10 [==============================] - 0s 5ms/step - loss: 37.6663 - accuracy: 0.5469 - val_loss: 98.2570 - val_accuracy: 0.6000\n",
            "Epoch 68/100\n",
            "10/10 [==============================] - 0s 4ms/step - loss: 71.4400 - accuracy: 0.5594 - val_loss: 88.2367 - val_accuracy: 0.4000\n",
            "Epoch 69/100\n",
            "10/10 [==============================] - 0s 6ms/step - loss: 100.6775 - accuracy: 0.4594 - val_loss: 90.1351 - val_accuracy: 0.4000\n",
            "Epoch 70/100\n",
            "10/10 [==============================] - 0s 5ms/step - loss: 38.3767 - accuracy: 0.5531 - val_loss: 33.5916 - val_accuracy: 0.4000\n",
            "Epoch 71/100\n",
            "10/10 [==============================] - 0s 5ms/step - loss: 37.8741 - accuracy: 0.5156 - val_loss: 43.1178 - val_accuracy: 0.6000\n",
            "Epoch 72/100\n",
            "10/10 [==============================] - 0s 7ms/step - loss: 19.6171 - accuracy: 0.5594 - val_loss: 50.5401 - val_accuracy: 0.4000\n",
            "Epoch 73/100\n",
            "10/10 [==============================] - 0s 5ms/step - loss: 37.2541 - accuracy: 0.5344 - val_loss: 96.9413 - val_accuracy: 0.4000\n",
            "Epoch 74/100\n",
            "10/10 [==============================] - 0s 5ms/step - loss: 52.7402 - accuracy: 0.4969 - val_loss: 35.0312 - val_accuracy: 0.4000\n",
            "Epoch 75/100\n",
            "10/10 [==============================] - 0s 5ms/step - loss: 36.1626 - accuracy: 0.5281 - val_loss: 69.7414 - val_accuracy: 0.6000\n",
            "Epoch 76/100\n",
            "10/10 [==============================] - 0s 5ms/step - loss: 34.1095 - accuracy: 0.5469 - val_loss: 67.7886 - val_accuracy: 0.4000\n",
            "Epoch 77/100\n",
            "10/10 [==============================] - 0s 4ms/step - loss: 82.6909 - accuracy: 0.4969 - val_loss: 74.1137 - val_accuracy: 0.4000\n",
            "Epoch 78/100\n",
            "10/10 [==============================] - 0s 5ms/step - loss: 94.9640 - accuracy: 0.4844 - val_loss: 3.8006 - val_accuracy: 0.6000\n",
            "Epoch 79/100\n",
            "10/10 [==============================] - 0s 5ms/step - loss: 27.0701 - accuracy: 0.5656 - val_loss: 41.5875 - val_accuracy: 0.4000\n",
            "Epoch 80/100\n",
            "10/10 [==============================] - 0s 6ms/step - loss: 69.1380 - accuracy: 0.4219 - val_loss: 39.1776 - val_accuracy: 0.6000\n",
            "Epoch 81/100\n",
            "10/10 [==============================] - 0s 5ms/step - loss: 26.6047 - accuracy: 0.5344 - val_loss: 18.2114 - val_accuracy: 0.6000\n",
            "Epoch 82/100\n",
            "10/10 [==============================] - 0s 4ms/step - loss: 41.7021 - accuracy: 0.5281 - val_loss: 2.8330 - val_accuracy: 0.3750\n",
            "Epoch 83/100\n",
            "10/10 [==============================] - 0s 5ms/step - loss: 27.1196 - accuracy: 0.5281 - val_loss: 5.4763 - val_accuracy: 0.4000\n",
            "Epoch 84/100\n",
            "10/10 [==============================] - 0s 5ms/step - loss: 16.1725 - accuracy: 0.4656 - val_loss: 10.5665 - val_accuracy: 0.6000\n",
            "Epoch 85/100\n",
            "10/10 [==============================] - 0s 5ms/step - loss: 55.7684 - accuracy: 0.6094 - val_loss: 45.9707 - val_accuracy: 0.4000\n",
            "Epoch 86/100\n",
            "10/10 [==============================] - 0s 5ms/step - loss: 64.9715 - accuracy: 0.5281 - val_loss: 37.1252 - val_accuracy: 0.4000\n",
            "Epoch 87/100\n",
            "10/10 [==============================] - 0s 4ms/step - loss: 45.1218 - accuracy: 0.5156 - val_loss: 112.2704 - val_accuracy: 0.6000\n",
            "Epoch 88/100\n",
            "10/10 [==============================] - 0s 4ms/step - loss: 71.1899 - accuracy: 0.5531 - val_loss: 30.0715 - val_accuracy: 0.6000\n",
            "Epoch 89/100\n",
            "10/10 [==============================] - 0s 6ms/step - loss: 129.5498 - accuracy: 0.5094 - val_loss: 33.1737 - val_accuracy: 0.6000\n",
            "Epoch 90/100\n",
            "10/10 [==============================] - 0s 5ms/step - loss: 145.9601 - accuracy: 0.4531 - val_loss: 7.7845 - val_accuracy: 0.6000\n",
            "Epoch 91/100\n",
            "10/10 [==============================] - 0s 5ms/step - loss: 101.0976 - accuracy: 0.5031 - val_loss: 63.0562 - val_accuracy: 0.4000\n",
            "Epoch 92/100\n",
            "10/10 [==============================] - 0s 4ms/step - loss: 81.3085 - accuracy: 0.4531 - val_loss: 34.4284 - val_accuracy: 0.4000\n",
            "Epoch 93/100\n",
            "10/10 [==============================] - 0s 4ms/step - loss: 41.6849 - accuracy: 0.5219 - val_loss: 49.1643 - val_accuracy: 0.4000\n",
            "Epoch 94/100\n",
            "10/10 [==============================] - 0s 5ms/step - loss: 19.2611 - accuracy: 0.4594 - val_loss: 18.5289 - val_accuracy: 0.6000\n",
            "Epoch 95/100\n",
            "10/10 [==============================] - 0s 6ms/step - loss: 12.2232 - accuracy: 0.5719 - val_loss: 13.6160 - val_accuracy: 0.4000\n",
            "Epoch 96/100\n",
            "10/10 [==============================] - 0s 6ms/step - loss: 59.3513 - accuracy: 0.5344 - val_loss: 95.9422 - val_accuracy: 0.6000\n",
            "Epoch 97/100\n",
            "10/10 [==============================] - 0s 5ms/step - loss: 63.1196 - accuracy: 0.5531 - val_loss: 23.2999 - val_accuracy: 0.4000\n",
            "Epoch 98/100\n",
            "10/10 [==============================] - 0s 5ms/step - loss: 38.6838 - accuracy: 0.5281 - val_loss: 33.2339 - val_accuracy: 0.6000\n",
            "Epoch 99/100\n",
            "10/10 [==============================] - 0s 4ms/step - loss: 25.7033 - accuracy: 0.5281 - val_loss: 43.5810 - val_accuracy: 0.4000\n",
            "Epoch 100/100\n",
            "10/10 [==============================] - 0s 5ms/step - loss: 17.4668 - accuracy: 0.5063 - val_loss: 17.5211 - val_accuracy: 0.4000\n"
          ]
        }
      ],
      "source": [
        "history = model.fit(X_train,y_train,validation_data=(X_test,y_test),epochs=100)"
      ]
    },
    {
      "cell_type": "code",
      "execution_count": 16,
      "metadata": {
        "colab": {
          "base_uri": "https://localhost:8080/",
          "height": 283
        },
        "id": "ZMQRl2lm_VHq",
        "outputId": "4ada872e-f5c9-475d-b7d4-80bf8bac1f62"
      },
      "outputs": [
        {
          "data": {
            "text/plain": [
              "[<matplotlib.lines.Line2D at 0x20890bd14d0>]"
            ]
          },
          "execution_count": 16,
          "metadata": {},
          "output_type": "execute_result"
        },
        {
          "data": {
            "image/png": "[encoded data removed]",
            "text/plain": [
              "<Figure size 640x480 with 1 Axes>"
            ]
          },
          "metadata": {},
          "output_type": "display_data"
        }
      ],
      "source": [
        "import matplotlib.pyplot as plt\n",
        "plt.plot(history.history['val_accuracy'])"
      ]
    },
    {
      "cell_type": "code",
      "execution_count": null,
      "metadata": {
        "id": "_STlGeh5_lBW"
      },
      "outputs": [],
      "source": []
    },
    {
      "cell_type": "markdown",
      "metadata": {},
      "source": [
        "### applying Scaling"
      ]
    },
    {
      "cell_type": "code",
      "execution_count": 18,
      "metadata": {
        "id": "QQGb-bfy_5TK"
      },
      "outputs": [],
      "source": [
        "from sklearn.preprocessing import StandardScaler\n",
        "scaler = StandardScaler()\n",
        "\n",
        "X_train_scaled = scaler.fit_transform(X_train)\n",
        "X_test_scaled = scaler.transform(X_test)"
      ]
    },
    {
      "cell_type": "code",
      "execution_count": 19,
      "metadata": {
        "colab": {
          "base_uri": "https://localhost:8080/"
        },
        "id": "NRGauCO7KrVT",
        "outputId": "df4a8f64-242c-4430-9cdb-2ca5da2276ab"
      },
      "outputs": [
        {
          "data": {
            "text/plain": [
              "array([[ 0.88928823, -0.65924556],\n",
              "       [-0.17254846,  0.87392651],\n",
              "       [-1.04132394, -0.36440478],\n",
              "       [ 0.98581884,  0.6085698 ],\n",
              "       [-0.94479333,  0.57908572],\n",
              "       [ 0.40663519,  0.01888824],\n",
              "       [ 0.98581884,  2.11225779],\n",
              "       [ 0.31010458, -0.30543662],\n",
              "       [ 1.7580637 , -0.27595254],\n",
              "       [-0.17254846,  2.20071003],\n",
              "       [ 1.7580637 ,  1.0213469 ],\n",
              "       [-1.33091576, -1.48479975],\n",
              "       [ 2.04765553,  0.54960165],\n",
              "       [ 1.27541066,  1.90586924],\n",
              "       [-1.13785454,  0.31372902],\n",
              "       [-0.36560968, -0.77718187],\n",
              "       [-1.71703819,  0.49063349],\n",
              "       [-0.5586709 , -1.51428383],\n",
              "       [ 0.31010458, -0.71821372],\n",
              "       [ 0.02051275, -0.57079333],\n",
              "       [ 0.02051275,  0.04837232],\n",
              "       [-0.07601785, -0.51182517],\n",
              "       [-0.6552015 , -1.51428383],\n",
              "       [ 0.02051275,  0.31372902],\n",
              "       [ 0.31010458,  0.07785639],\n",
              "       [-0.46214029, -1.13099081],\n",
              "       [-0.75173211, -1.54376791],\n",
              "       [-0.26907907, -0.65924556],\n",
              "       [-1.13785454,  0.49063349],\n",
              "       [-0.07601785,  2.20071003],\n",
              "       [ 0.02051275,  0.04837232],\n",
              "       [-1.13785454, -1.57325199],\n",
              "       [ 1.08234944,  0.54960165],\n",
              "       [-0.26907907, -1.24892713],\n",
              "       [ 1.37194127, -0.92460227],\n",
              "       [-1.42744637, -1.21944305],\n",
              "       [-0.94479333, -0.95408634],\n",
              "       [ 1.95112492, -0.65924556],\n",
              "       [ 0.88928823, -0.57079333],\n",
              "       [-1.13785454,  0.31372902],\n",
              "       [ 0.02051275, -0.24646847],\n",
              "       [ 0.79275762, -1.39634752],\n",
              "       [-0.26907907, -0.36440478],\n",
              "       [ 0.88928823,  1.2867036 ],\n",
              "       [ 0.31010458, -0.18750031],\n",
              "       [-0.26907907, -0.57079333],\n",
              "       [-0.26907907, -1.39634752],\n",
              "       [ 1.46847188, -1.04253858],\n",
              "       [-0.07601785,  0.13682455],\n",
              "       [-0.84826272, -0.65924556],\n",
              "       [-0.07601785,  0.01888824],\n",
              "       [-0.26907907,  0.10734047],\n",
              "       [ 0.21357397, -0.30543662],\n",
              "       [-0.26907907,  0.28424494],\n",
              "       [ 0.11704336,  0.04837232],\n",
              "       [ 1.95112492,  2.20071003],\n",
              "       [-1.04132394, -1.45531567],\n",
              "       [ 0.31010458,  0.31372902],\n",
              "       [ 2.04765553, -1.18995897],\n",
              "       [-1.13785454, -0.51182517],\n",
              "       [ 0.21357397,  0.16630863],\n",
              "       [-0.26907907, -0.92460227],\n",
              "       [-0.6552015 ,  0.04837232],\n",
              "       [ 0.21357397,  0.07785639],\n",
              "       [ 0.40663519, -0.12853215],\n",
              "       [-1.13785454, -1.10150673],\n",
              "       [-0.07601785,  2.25967818],\n",
              "       [ 1.08234944, -0.12853215],\n",
              "       [ 0.88928823,  1.05083098],\n",
              "       [-0.07601785,  0.28424494],\n",
              "       [-0.5586709 , -1.51428383],\n",
              "       [-1.13785454, -1.0130545 ],\n",
              "       [-0.75173211,  1.37515584],\n",
              "       [ 1.08234944,  0.57908572],\n",
              "       [ 1.56500249, -1.2784112 ],\n",
              "       [ 0.69622701, -1.39634752],\n",
              "       [-0.6552015 , -1.04253858],\n",
              "       [ 1.17888005,  0.54960165],\n",
              "       [-0.26907907, -1.45531567],\n",
              "       [-1.62050759,  0.54960165],\n",
              "       [-1.04132394, -1.13099081],\n",
              "       [-0.07601785,  0.04837232],\n",
              "       [ 0.31010458,  0.07785639],\n",
              "       [ 0.88928823, -1.36686344],\n",
              "       [-1.04132394, -0.3349207 ],\n",
              "       [-1.8135688 ,  0.19579271],\n",
              "       [-1.8135688 , -1.4258316 ],\n",
              "       [ 0.69622701,  1.81741701],\n",
              "       [-0.07601785,  0.31372902],\n",
              "       [-1.62050759,  0.07785639],\n",
              "       [-0.6552015 ,  1.43412399],\n",
              "       [-0.26907907, -0.24646847],\n",
              "       [-0.36560968,  1.34567176],\n",
              "       [ 0.5031658 ,  1.25721952],\n",
              "       [-0.6552015 ,  0.19579271],\n",
              "       [-1.52397698, -0.42337294],\n",
              "       [-1.04132394,  0.43166533],\n",
              "       [ 0.79275762,  0.28424494],\n",
              "       [ 1.95112492, -0.92460227],\n",
              "       [ 0.79275762, -0.30543662],\n",
              "       [ 0.21357397,  0.25476086],\n",
              "       [-1.71703819, -0.60027741],\n",
              "       [-0.26907907,  0.16630863],\n",
              "       [-1.33091576, -1.24892713],\n",
              "       [-0.26907907, -0.42337294],\n",
              "       [ 0.11704336,  0.10734047],\n",
              "       [-0.94479333,  0.46114941],\n",
              "       [ 2.04765553,  0.40218125],\n",
              "       [-1.91009941,  0.37269718],\n",
              "       [ 2.04765553, -0.80666595],\n",
              "       [ 2.14418614,  1.13928321],\n",
              "       [ 0.79275762, -1.21944305],\n",
              "       [ 0.40663519, -0.45285701],\n",
              "       [ 0.02051275, -0.24646847],\n",
              "       [ 1.46847188,  0.37269718],\n",
              "       [-0.17254846, -0.57079333],\n",
              "       [ 0.21357397, -0.24646847],\n",
              "       [-0.46214029,  2.34813042],\n",
              "       [ 0.11704336,  0.22527679],\n",
              "       [ 0.21357397, -0.65924556],\n",
              "       [ 0.98581884, -1.07202266],\n",
              "       [-0.17254846,  0.16630863],\n",
              "       [-0.07601785,  0.31372902],\n",
              "       [ 0.40663519, -0.48234109],\n",
              "       [-0.36560968, -1.30789528],\n",
              "       [ 0.88928823, -0.77718187],\n",
              "       [-0.94479333,  0.43166533],\n",
              "       [-0.07601785, -0.42337294],\n",
              "       [-0.94479333, -0.42337294],\n",
              "       [-1.8135688 ,  0.46114941],\n",
              "       [-0.84826272, -1.21944305],\n",
              "       [-0.94479333, -0.30543662],\n",
              "       [ 0.98581884,  0.78547427],\n",
              "       [-1.62050759, -0.04007992],\n",
              "       [-1.04132394, -0.3349207 ],\n",
              "       [ 0.02051275, -0.54130925],\n",
              "       [-0.6552015 , -0.3349207 ],\n",
              "       [-1.13785454, -1.54376791],\n",
              "       [ 1.95112492, -1.36686344],\n",
              "       [-0.6552015 , -1.60273606],\n",
              "       [ 0.21357397, -0.36440478],\n",
              "       [ 0.88928823,  2.20071003],\n",
              "       [ 1.17888005, -0.98357042],\n",
              "       [-0.17254846, -0.51182517],\n",
              "       [ 1.66153309,  1.78793293],\n",
              "       [ 1.08234944, -1.21944305],\n",
              "       [ 0.02051275,  1.2867036 ],\n",
              "       [-0.46214029, -0.27595254],\n",
              "       [ 1.66153309, -0.89511819],\n",
              "       [ 0.31010458,  0.52011757],\n",
              "       [-1.04132394, -1.54376791],\n",
              "       [ 1.56500249,  1.13928321],\n",
              "       [-1.52397698,  0.3432131 ],\n",
              "       [ 0.02051275, -0.12853215],\n",
              "       [ 0.11704336, -0.80666595],\n",
              "       [ 0.21357397,  1.10979913],\n",
              "       [ 0.40663519, -0.15801623],\n",
              "       [-0.46214029, -0.01059584],\n",
              "       [ 1.08234944,  2.11225779],\n",
              "       [-0.26907907, -0.12853215],\n",
              "       [-0.75173211, -0.60027741],\n",
              "       [ 1.17888005, -1.45531567],\n",
              "       [-1.42744637, -1.45531567],\n",
              "       [ 1.85459431, -0.27595254],\n",
              "       [ 1.85459431,  0.13682455],\n",
              "       [ 0.40663519,  0.16630863],\n",
              "       [ 1.27541066, -1.36686344],\n",
              "       [-0.46214029, -1.21944305],\n",
              "       [-0.75173211,  1.93535332],\n",
              "       [-0.26907907,  1.13928321],\n",
              "       [ 0.02051275, -0.57079333],\n",
              "       [ 0.21357397, -0.12853215],\n",
              "       [-0.5586709 ,  1.93535332],\n",
              "       [-0.94479333,  0.28424494],\n",
              "       [-1.91009941,  0.49063349],\n",
              "       [-1.33091576,  0.57908572],\n",
              "       [ 0.21357397,  0.16630863],\n",
              "       [ 1.37194127, -1.4258316 ],\n",
              "       [-0.07601785,  0.69702204],\n",
              "       [ 0.11704336,  1.90586924],\n",
              "       [-1.71703819, -0.98357042],\n",
              "       [ 0.21357397, -0.36440478],\n",
              "       [-1.8135688 , -1.30789528],\n",
              "       [ 0.79275762,  0.54960165],\n",
              "       [-0.17254846,  1.43412399],\n",
              "       [-1.04132394,  0.57908572],\n",
              "       [-1.23438515, -1.07202266],\n",
              "       [ 1.37194127,  2.02380556],\n",
              "       [ 0.79275762, -1.10150673],\n",
              "       [ 0.79275762,  0.13682455],\n",
              "       [-1.8135688 , -1.2784112 ],\n",
              "       [ 0.02051275,  1.25721952],\n",
              "       [ 0.88928823, -0.60027741],\n",
              "       [ 2.14418614,  0.40218125],\n",
              "       [ 2.14418614, -0.80666595],\n",
              "       [ 0.98581884, -1.07202266],\n",
              "       [ 0.11704336,  1.55206031],\n",
              "       [-0.94479333,  0.52011757],\n",
              "       [-1.23438515,  0.28424494],\n",
              "       [ 0.40663519,  0.6085698 ],\n",
              "       [ 0.11704336,  0.16630863],\n",
              "       [ 0.21357397,  0.04837232],\n",
              "       [ 2.04765553,  2.17122595],\n",
              "       [-0.07601785, -0.36440478],\n",
              "       [-0.26907907,  0.81495835],\n",
              "       [-1.42744637, -0.18750031],\n",
              "       [ 1.08234944,  0.13682455],\n",
              "       [ 0.31010458,  0.07785639],\n",
              "       [ 0.11704336,  0.04837232],\n",
              "       [ 0.98581884, -1.0130545 ],\n",
              "       [-0.5586709 ,  1.49309215],\n",
              "       [-1.13785454, -1.60273606],\n",
              "       [ 1.27541066,  2.25967818],\n",
              "       [-1.42744637, -0.09904808],\n",
              "       [-1.8135688 , -1.48479975],\n",
              "       [ 0.88928823, -1.16047489],\n",
              "       [ 2.14418614, -0.68872964],\n",
              "       [ 0.5996964 , -0.89511819],\n",
              "       [-1.23438515, -1.39634752],\n",
              "       [-0.46214029, -0.83615003],\n",
              "       [-0.84826272, -0.24646847],\n",
              "       [ 1.46847188,  2.17122595],\n",
              "       [ 0.40663519,  1.0213469 ],\n",
              "       [ 0.02051275, -0.42337294],\n",
              "       [-1.13785454, -1.16047489],\n",
              "       [-0.75173211,  0.57908572],\n",
              "       [ 0.11704336,  1.08031505],\n",
              "       [-0.5586709 ,  1.40463991],\n",
              "       [ 0.11704336,  1.90586924],\n",
              "       [ 0.21357397,  2.14174187],\n",
              "       [ 1.46847188,  1.0213469 ],\n",
              "       [-1.71703819,  0.13682455],\n",
              "       [-0.26907907, -0.48234109],\n",
              "       [ 0.11704336,  0.78547427],\n",
              "       [ 0.88928823, -1.30789528],\n",
              "       [-0.26907907, -0.27595254],\n",
              "       [ 2.14418614, -1.04253858],\n",
              "       [ 0.40663519,  0.31372902],\n",
              "       [-0.17254846,  1.64051254],\n",
              "       [ 0.79275762, -0.83615003],\n",
              "       [-0.94479333,  1.58154438],\n",
              "       [ 0.11704336, -0.24646847],\n",
              "       [-1.23438515,  0.52011757],\n",
              "       [ 0.11704336, -0.80666595],\n",
              "       [ 1.08234944, -0.98357042],\n",
              "       [ 0.98581884,  1.81741701],\n",
              "       [-1.42744637, -0.62976148],\n",
              "       [ 0.98581884, -1.18995897],\n",
              "       [-1.33091576, -0.42337294],\n",
              "       [ 0.31010458,  0.07785639],\n",
              "       [-0.26907907, -0.57079333],\n",
              "       [-0.75173211,  1.10979913],\n",
              "       [ 1.56500249,  1.0213469 ],\n",
              "       [-1.04132394,  0.6085698 ],\n",
              "       [ 0.40663519,  0.10734047],\n",
              "       [-0.94479333, -0.30543662],\n",
              "       [ 1.17888005, -0.7476978 ],\n",
              "       [-1.91009941, -0.51182517],\n",
              "       [ 1.08234944, -1.21944305],\n",
              "       [ 0.31010458,  0.28424494],\n",
              "       [-0.75173211, -1.60273606],\n",
              "       [-0.26907907, -1.30789528],\n",
              "       [-0.26907907,  0.54960165],\n",
              "       [ 0.98581884,  1.90586924],\n",
              "       [-0.6552015 , -0.09904808],\n",
              "       [-0.46214029,  1.2867036 ],\n",
              "       [ 0.31010458, -0.51182517],\n",
              "       [ 1.85459431,  1.55206031],\n",
              "       [ 1.08234944,  0.49063349],\n",
              "       [ 2.04765553,  0.19579271],\n",
              "       [-1.71703819,  0.37269718],\n",
              "       [-0.17254846, -0.18750031],\n",
              "       [-0.6552015 ,  0.57908572],\n",
              "       [ 1.37194127,  1.31618768],\n",
              "       [ 1.08234944, -0.89511819],\n",
              "       [ 1.85459431, -1.07202266],\n",
              "       [-0.75173211,  0.52011757],\n",
              "       [-1.33091576, -1.10150673],\n",
              "       [ 0.79275762,  0.37269718],\n",
              "       [-0.84826272,  0.40218125],\n",
              "       [-0.75173211,  0.31372902],\n",
              "       [-1.04132394,  1.99432148],\n",
              "       [-0.07601785,  0.07785639],\n",
              "       [ 1.37194127,  2.3776145 ],\n",
              "       [-0.07601785,  0.16630863],\n",
              "       [-0.07601785,  1.99432148],\n",
              "       [-0.75173211,  0.28424494],\n",
              "       [-1.13785454,  0.3432131 ],\n",
              "       [ 0.31010458, -0.27595254],\n",
              "       [ 0.98581884, -1.16047489],\n",
              "       [ 1.37194127,  0.6085698 ],\n",
              "       [-1.52397698, -1.51428383],\n",
              "       [-0.94479333, -0.7476978 ],\n",
              "       [-1.13785454,  0.07785639],\n",
              "       [ 0.40663519, -0.45285701],\n",
              "       [-1.91009941, -0.7476978 ],\n",
              "       [ 0.40663519,  0.28424494],\n",
              "       [-0.26907907,  0.22527679],\n",
              "       [-0.5586709 ,  0.49063349],\n",
              "       [-0.36560968, -0.77718187],\n",
              "       [-0.26907907,  0.04837232],\n",
              "       [-0.07601785,  0.22527679],\n",
              "       [-0.26907907,  0.16630863],\n",
              "       [ 0.31010458, -0.54130925],\n",
              "       [ 0.79275762,  0.78547427],\n",
              "       [ 0.98581884,  2.02380556],\n",
              "       [-0.17254846, -0.27595254],\n",
              "       [-1.04132394, -0.45285701],\n",
              "       [-0.26907907, -0.3349207 ],\n",
              "       [ 0.11704336, -0.30543662],\n",
              "       [-0.26907907, -0.7476978 ],\n",
              "       [-0.07601785, -1.07202266],\n",
              "       [-0.26907907,  0.07785639],\n",
              "       [ 0.5031658 ,  1.75844885],\n",
              "       [-0.36560968,  1.25721952],\n",
              "       [ 0.79275762,  1.40463991],\n",
              "       [ 0.98581884, -0.83615003],\n",
              "       [-1.71703819, -1.36686344],\n",
              "       [-0.84826272,  0.31372902],\n",
              "       [-0.84826272,  2.31864634]])"
            ]
          },
          "execution_count": 19,
          "metadata": {},
          "output_type": "execute_result"
        }
      ],
      "source": [
        "X_train_scaled"
      ]
    },
    {
      "cell_type": "code",
      "execution_count": 21,
      "metadata": {
        "colab": {
          "base_uri": "https://localhost:8080/",
          "height": 339
        },
        "id": "CvhZdAbXKwoJ",
        "outputId": "3d8b5669-434b-4b37-962e-4a0de5d1eac1"
      },
      "outputs": [
        {
          "data": {
            "text/plain": [
              "<Axes: >"
            ]
          },
          "execution_count": 21,
          "metadata": {},
          "output_type": "execute_result"
        },
        {
          "data": {
            "image/png": "[encoded data removed]",
            "text/plain": [
              "<Figure size 640x480 with 1 Axes>"
            ]
          },
          "metadata": {},
          "output_type": "display_data"
        }
      ],
      "source": [
        "sns.scatterplot(x=X_train_scaled[:,0],y=X_train_scaled[:,1])"
      ]
    },
    {
      "cell_type": "code",
      "execution_count": 22,
      "metadata": {
        "colab": {
          "base_uri": "https://localhost:8080/"
        },
        "id": "g-DZoervAJzJ",
        "outputId": "8ec45eea-c1e0-463c-c9ed-77e0e75e6396"
      },
      "outputs": [
        {
          "name": "stdout",
          "output_type": "stream",
          "text": [
            "Epoch 1/100\n",
            "10/10 [==============================] - 1s 17ms/step - loss: 0.6769 - accuracy: 0.6062 - val_loss: 0.6352 - val_accuracy: 0.7625\n",
            "Epoch 2/100\n",
            "10/10 [==============================] - 0s 5ms/step - loss: 0.6224 - accuracy: 0.7500 - val_loss: 0.5790 - val_accuracy: 0.8250\n",
            "Epoch 3/100\n",
            "10/10 [==============================] - 0s 5ms/step - loss: 0.5727 - accuracy: 0.8031 - val_loss: 0.5340 - val_accuracy: 0.8250\n",
            "Epoch 4/100\n",
            "10/10 [==============================] - 0s 5ms/step - loss: 0.5334 - accuracy: 0.8469 - val_loss: 0.4945 - val_accuracy: 0.8125\n",
            "Epoch 5/100\n",
            "10/10 [==============================] - 0s 4ms/step - loss: 0.4982 - accuracy: 0.8594 - val_loss: 0.4615 - val_accuracy: 0.8000\n",
            "Epoch 6/100\n",
            "10/10 [==============================] - 0s 6ms/step - loss: 0.4673 - accuracy: 0.8531 - val_loss: 0.4342 - val_accuracy: 0.8000\n",
            "Epoch 7/100\n",
            "10/10 [==============================] - 0s 5ms/step - loss: 0.4414 - accuracy: 0.8531 - val_loss: 0.4098 - val_accuracy: 0.8125\n",
            "Epoch 8/100\n",
            "10/10 [==============================] - 0s 4ms/step - loss: 0.4175 - accuracy: 0.8594 - val_loss: 0.3908 - val_accuracy: 0.8125\n",
            "Epoch 9/100\n",
            "10/10 [==============================] - 0s 4ms/step - loss: 0.3981 - accuracy: 0.8656 - val_loss: 0.3730 - val_accuracy: 0.8375\n",
            "Epoch 10/100\n",
            "10/10 [==============================] - 0s 3ms/step - loss: 0.3799 - accuracy: 0.8813 - val_loss: 0.3582 - val_accuracy: 0.8250\n",
            "Epoch 11/100\n",
            "10/10 [==============================] - 0s 4ms/step - loss: 0.3641 - accuracy: 0.8813 - val_loss: 0.3467 - val_accuracy: 0.8250\n",
            "Epoch 12/100\n",
            "10/10 [==============================] - 0s 4ms/step - loss: 0.3507 - accuracy: 0.8844 - val_loss: 0.3367 - val_accuracy: 0.8250\n",
            "Epoch 13/100\n",
            "10/10 [==============================] - 0s 5ms/step - loss: 0.3379 - accuracy: 0.8813 - val_loss: 0.3285 - val_accuracy: 0.8250\n",
            "Epoch 14/100\n",
            "10/10 [==============================] - 0s 5ms/step - loss: 0.3274 - accuracy: 0.8906 - val_loss: 0.3226 - val_accuracy: 0.8250\n",
            "Epoch 15/100\n",
            "10/10 [==============================] - 0s 4ms/step - loss: 0.3183 - accuracy: 0.8906 - val_loss: 0.3157 - val_accuracy: 0.8250\n",
            "Epoch 16/100\n",
            "10/10 [==============================] - 0s 5ms/step - loss: 0.3100 - accuracy: 0.8875 - val_loss: 0.3112 - val_accuracy: 0.8375\n",
            "Epoch 17/100\n",
            "10/10 [==============================] - 0s 5ms/step - loss: 0.3029 - accuracy: 0.8938 - val_loss: 0.3053 - val_accuracy: 0.8250\n",
            "Epoch 18/100\n",
            "10/10 [==============================] - 0s 6ms/step - loss: 0.2966 - accuracy: 0.8969 - val_loss: 0.3020 - val_accuracy: 0.8375\n",
            "Epoch 19/100\n",
            "10/10 [==============================] - 0s 5ms/step - loss: 0.2910 - accuracy: 0.9000 - val_loss: 0.2979 - val_accuracy: 0.8625\n",
            "Epoch 20/100\n",
            "10/10 [==============================] - 0s 5ms/step - loss: 0.2865 - accuracy: 0.9031 - val_loss: 0.2944 - val_accuracy: 0.8500\n",
            "Epoch 21/100\n",
            "10/10 [==============================] - 0s 4ms/step - loss: 0.2820 - accuracy: 0.9031 - val_loss: 0.2926 - val_accuracy: 0.8625\n",
            "Epoch 22/100\n",
            "10/10 [==============================] - 0s 5ms/step - loss: 0.2782 - accuracy: 0.8938 - val_loss: 0.2907 - val_accuracy: 0.8625\n",
            "Epoch 23/100\n",
            "10/10 [==============================] - 0s 5ms/step - loss: 0.2745 - accuracy: 0.8938 - val_loss: 0.2896 - val_accuracy: 0.8625\n",
            "Epoch 24/100\n",
            "10/10 [==============================] - 0s 6ms/step - loss: 0.2722 - accuracy: 0.8969 - val_loss: 0.2863 - val_accuracy: 0.8625\n",
            "Epoch 25/100\n",
            "10/10 [==============================] - 0s 5ms/step - loss: 0.2691 - accuracy: 0.8969 - val_loss: 0.2865 - val_accuracy: 0.8625\n",
            "Epoch 26/100\n",
            "10/10 [==============================] - 0s 5ms/step - loss: 0.2665 - accuracy: 0.8969 - val_loss: 0.2850 - val_accuracy: 0.8625\n",
            "Epoch 27/100\n",
            "10/10 [==============================] - 0s 6ms/step - loss: 0.2644 - accuracy: 0.8969 - val_loss: 0.2815 - val_accuracy: 0.8625\n",
            "Epoch 28/100\n",
            "10/10 [==============================] - 0s 6ms/step - loss: 0.2621 - accuracy: 0.9031 - val_loss: 0.2802 - val_accuracy: 0.8625\n",
            "Epoch 29/100\n",
            "10/10 [==============================] - 0s 6ms/step - loss: 0.2610 - accuracy: 0.9031 - val_loss: 0.2806 - val_accuracy: 0.8625\n",
            "Epoch 30/100\n",
            "10/10 [==============================] - 0s 4ms/step - loss: 0.2587 - accuracy: 0.9031 - val_loss: 0.2785 - val_accuracy: 0.8625\n",
            "Epoch 31/100\n",
            "10/10 [==============================] - 0s 5ms/step - loss: 0.2571 - accuracy: 0.9031 - val_loss: 0.2764 - val_accuracy: 0.8750\n",
            "Epoch 32/100\n",
            "10/10 [==============================] - 0s 6ms/step - loss: 0.2555 - accuracy: 0.9000 - val_loss: 0.2751 - val_accuracy: 0.8750\n",
            "Epoch 33/100\n",
            "10/10 [==============================] - 0s 6ms/step - loss: 0.2545 - accuracy: 0.9000 - val_loss: 0.2748 - val_accuracy: 0.8750\n",
            "Epoch 34/100\n",
            "10/10 [==============================] - 0s 5ms/step - loss: 0.2534 - accuracy: 0.9000 - val_loss: 0.2755 - val_accuracy: 0.8750\n",
            "Epoch 35/100\n",
            "10/10 [==============================] - 0s 6ms/step - loss: 0.2523 - accuracy: 0.9000 - val_loss: 0.2725 - val_accuracy: 0.8750\n",
            "Epoch 36/100\n",
            "10/10 [==============================] - 0s 4ms/step - loss: 0.2513 - accuracy: 0.9000 - val_loss: 0.2744 - val_accuracy: 0.8750\n",
            "Epoch 37/100\n",
            "10/10 [==============================] - 0s 5ms/step - loss: 0.2502 - accuracy: 0.9000 - val_loss: 0.2715 - val_accuracy: 0.8750\n",
            "Epoch 38/100\n",
            "10/10 [==============================] - 0s 5ms/step - loss: 0.2494 - accuracy: 0.9000 - val_loss: 0.2714 - val_accuracy: 0.8750\n",
            "Epoch 39/100\n",
            "10/10 [==============================] - 0s 8ms/step - loss: 0.2485 - accuracy: 0.9000 - val_loss: 0.2694 - val_accuracy: 0.8750\n",
            "Epoch 40/100\n",
            "10/10 [==============================] - 0s 5ms/step - loss: 0.2475 - accuracy: 0.9000 - val_loss: 0.2693 - val_accuracy: 0.8750\n",
            "Epoch 41/100\n",
            "10/10 [==============================] - 0s 5ms/step - loss: 0.2467 - accuracy: 0.8969 - val_loss: 0.2704 - val_accuracy: 0.8750\n",
            "Epoch 42/100\n",
            "10/10 [==============================] - 0s 6ms/step - loss: 0.2459 - accuracy: 0.9000 - val_loss: 0.2696 - val_accuracy: 0.8750\n",
            "Epoch 43/100\n",
            "10/10 [==============================] - 0s 6ms/step - loss: 0.2453 - accuracy: 0.9000 - val_loss: 0.2701 - val_accuracy: 0.8750\n",
            "Epoch 44/100\n",
            "10/10 [==============================] - 0s 7ms/step - loss: 0.2446 - accuracy: 0.9000 - val_loss: 0.2677 - val_accuracy: 0.8750\n",
            "Epoch 45/100\n",
            "10/10 [==============================] - 0s 6ms/step - loss: 0.2440 - accuracy: 0.9000 - val_loss: 0.2682 - val_accuracy: 0.8750\n",
            "Epoch 46/100\n",
            "10/10 [==============================] - 0s 5ms/step - loss: 0.2432 - accuracy: 0.9000 - val_loss: 0.2698 - val_accuracy: 0.8750\n",
            "Epoch 47/100\n",
            "10/10 [==============================] - 0s 5ms/step - loss: 0.2431 - accuracy: 0.9031 - val_loss: 0.2697 - val_accuracy: 0.8750\n",
            "Epoch 48/100\n",
            "10/10 [==============================] - 0s 7ms/step - loss: 0.2419 - accuracy: 0.9031 - val_loss: 0.2683 - val_accuracy: 0.8750\n",
            "Epoch 49/100\n",
            "10/10 [==============================] - 0s 5ms/step - loss: 0.2417 - accuracy: 0.9000 - val_loss: 0.2684 - val_accuracy: 0.8750\n",
            "Epoch 50/100\n",
            "10/10 [==============================] - 0s 5ms/step - loss: 0.2410 - accuracy: 0.9031 - val_loss: 0.2668 - val_accuracy: 0.8750\n",
            "Epoch 51/100\n",
            "10/10 [==============================] - 0s 4ms/step - loss: 0.2406 - accuracy: 0.9031 - val_loss: 0.2673 - val_accuracy: 0.8875\n",
            "Epoch 52/100\n",
            "10/10 [==============================] - 0s 6ms/step - loss: 0.2402 - accuracy: 0.9031 - val_loss: 0.2686 - val_accuracy: 0.8875\n",
            "Epoch 53/100\n",
            "10/10 [==============================] - 0s 5ms/step - loss: 0.2396 - accuracy: 0.9062 - val_loss: 0.2650 - val_accuracy: 0.8750\n",
            "Epoch 54/100\n",
            "10/10 [==============================] - 0s 6ms/step - loss: 0.2393 - accuracy: 0.9062 - val_loss: 0.2633 - val_accuracy: 0.8875\n",
            "Epoch 55/100\n",
            "10/10 [==============================] - 0s 3ms/step - loss: 0.2391 - accuracy: 0.9031 - val_loss: 0.2639 - val_accuracy: 0.9375\n",
            "Epoch 56/100\n",
            "10/10 [==============================] - 0s 6ms/step - loss: 0.2383 - accuracy: 0.9031 - val_loss: 0.2664 - val_accuracy: 0.8875\n",
            "Epoch 57/100\n",
            "10/10 [==============================] - 0s 4ms/step - loss: 0.2381 - accuracy: 0.9062 - val_loss: 0.2682 - val_accuracy: 0.8875\n",
            "Epoch 58/100\n",
            "10/10 [==============================] - 0s 6ms/step - loss: 0.2377 - accuracy: 0.9062 - val_loss: 0.2661 - val_accuracy: 0.8875\n",
            "Epoch 59/100\n",
            "10/10 [==============================] - 0s 5ms/step - loss: 0.2377 - accuracy: 0.9031 - val_loss: 0.2667 - val_accuracy: 0.8875\n",
            "Epoch 60/100\n",
            "10/10 [==============================] - 0s 6ms/step - loss: 0.2367 - accuracy: 0.9062 - val_loss: 0.2657 - val_accuracy: 0.8875\n",
            "Epoch 61/100\n",
            "10/10 [==============================] - 0s 5ms/step - loss: 0.2365 - accuracy: 0.9062 - val_loss: 0.2658 - val_accuracy: 0.8875\n",
            "Epoch 62/100\n",
            "10/10 [==============================] - 0s 6ms/step - loss: 0.2361 - accuracy: 0.9062 - val_loss: 0.2655 - val_accuracy: 0.8875\n",
            "Epoch 63/100\n",
            "10/10 [==============================] - 0s 4ms/step - loss: 0.2358 - accuracy: 0.9062 - val_loss: 0.2638 - val_accuracy: 0.9000\n",
            "Epoch 64/100\n",
            "10/10 [==============================] - 0s 5ms/step - loss: 0.2356 - accuracy: 0.9062 - val_loss: 0.2653 - val_accuracy: 0.8875\n",
            "Epoch 65/100\n",
            "10/10 [==============================] - 0s 5ms/step - loss: 0.2354 - accuracy: 0.9062 - val_loss: 0.2647 - val_accuracy: 0.8875\n",
            "Epoch 66/100\n",
            "10/10 [==============================] - 0s 5ms/step - loss: 0.2353 - accuracy: 0.9062 - val_loss: 0.2661 - val_accuracy: 0.8875\n",
            "Epoch 67/100\n",
            "10/10 [==============================] - 0s 6ms/step - loss: 0.2346 - accuracy: 0.9062 - val_loss: 0.2642 - val_accuracy: 0.9250\n",
            "Epoch 68/100\n",
            "10/10 [==============================] - 0s 5ms/step - loss: 0.2345 - accuracy: 0.9062 - val_loss: 0.2643 - val_accuracy: 0.8875\n",
            "Epoch 69/100\n",
            "10/10 [==============================] - 0s 4ms/step - loss: 0.2339 - accuracy: 0.9094 - val_loss: 0.2632 - val_accuracy: 0.9250\n",
            "Epoch 70/100\n",
            "10/10 [==============================] - 0s 5ms/step - loss: 0.2338 - accuracy: 0.9094 - val_loss: 0.2647 - val_accuracy: 0.9125\n",
            "Epoch 71/100\n",
            "10/10 [==============================] - 0s 5ms/step - loss: 0.2335 - accuracy: 0.9062 - val_loss: 0.2656 - val_accuracy: 0.8875\n",
            "Epoch 72/100\n",
            "10/10 [==============================] - 0s 5ms/step - loss: 0.2337 - accuracy: 0.9094 - val_loss: 0.2662 - val_accuracy: 0.9250\n",
            "Epoch 73/100\n",
            "10/10 [==============================] - 0s 5ms/step - loss: 0.2333 - accuracy: 0.9094 - val_loss: 0.2637 - val_accuracy: 0.9250\n",
            "Epoch 74/100\n",
            "10/10 [==============================] - 0s 6ms/step - loss: 0.2330 - accuracy: 0.9094 - val_loss: 0.2645 - val_accuracy: 0.9250\n",
            "Epoch 75/100\n",
            "10/10 [==============================] - 0s 5ms/step - loss: 0.2331 - accuracy: 0.9094 - val_loss: 0.2636 - val_accuracy: 0.9375\n",
            "Epoch 76/100\n",
            "10/10 [==============================] - 0s 6ms/step - loss: 0.2326 - accuracy: 0.9094 - val_loss: 0.2648 - val_accuracy: 0.9250\n",
            "Epoch 77/100\n",
            "10/10 [==============================] - 0s 6ms/step - loss: 0.2324 - accuracy: 0.9094 - val_loss: 0.2642 - val_accuracy: 0.9250\n",
            "Epoch 78/100\n",
            "10/10 [==============================] - 0s 6ms/step - loss: 0.2321 - accuracy: 0.9062 - val_loss: 0.2644 - val_accuracy: 0.9125\n",
            "Epoch 79/100\n",
            "10/10 [==============================] - 0s 5ms/step - loss: 0.2321 - accuracy: 0.9094 - val_loss: 0.2638 - val_accuracy: 0.9250\n",
            "Epoch 80/100\n",
            "10/10 [==============================] - 0s 5ms/step - loss: 0.2318 - accuracy: 0.9094 - val_loss: 0.2617 - val_accuracy: 0.9375\n",
            "Epoch 81/100\n",
            "10/10 [==============================] - 0s 5ms/step - loss: 0.2336 - accuracy: 0.9094 - val_loss: 0.2598 - val_accuracy: 0.9375\n",
            "Epoch 82/100\n",
            "10/10 [==============================] - 0s 6ms/step - loss: 0.2318 - accuracy: 0.9062 - val_loss: 0.2647 - val_accuracy: 0.9250\n",
            "Epoch 83/100\n",
            "10/10 [==============================] - 0s 6ms/step - loss: 0.2314 - accuracy: 0.9094 - val_loss: 0.2630 - val_accuracy: 0.9250\n",
            "Epoch 84/100\n",
            "10/10 [==============================] - 0s 5ms/step - loss: 0.2310 - accuracy: 0.9062 - val_loss: 0.2627 - val_accuracy: 0.9250\n",
            "Epoch 85/100\n",
            "10/10 [==============================] - 0s 6ms/step - loss: 0.2310 - accuracy: 0.9031 - val_loss: 0.2653 - val_accuracy: 0.9250\n",
            "Epoch 86/100\n",
            "10/10 [==============================] - 0s 5ms/step - loss: 0.2310 - accuracy: 0.9062 - val_loss: 0.2678 - val_accuracy: 0.9000\n",
            "Epoch 87/100\n",
            "10/10 [==============================] - 0s 5ms/step - loss: 0.2306 - accuracy: 0.9094 - val_loss: 0.2644 - val_accuracy: 0.9250\n",
            "Epoch 88/100\n",
            "10/10 [==============================] - 0s 4ms/step - loss: 0.2304 - accuracy: 0.9094 - val_loss: 0.2624 - val_accuracy: 0.9250\n",
            "Epoch 89/100\n",
            "10/10 [==============================] - 0s 5ms/step - loss: 0.2301 - accuracy: 0.9094 - val_loss: 0.2620 - val_accuracy: 0.9250\n",
            "Epoch 90/100\n",
            "10/10 [==============================] - 0s 4ms/step - loss: 0.2299 - accuracy: 0.9094 - val_loss: 0.2641 - val_accuracy: 0.9250\n",
            "Epoch 91/100\n",
            "10/10 [==============================] - 0s 5ms/step - loss: 0.2297 - accuracy: 0.9031 - val_loss: 0.2642 - val_accuracy: 0.9250\n",
            "Epoch 92/100\n",
            "10/10 [==============================] - 0s 6ms/step - loss: 0.2299 - accuracy: 0.9125 - val_loss: 0.2649 - val_accuracy: 0.9250\n",
            "Epoch 93/100\n",
            "10/10 [==============================] - 0s 5ms/step - loss: 0.2293 - accuracy: 0.9094 - val_loss: 0.2617 - val_accuracy: 0.9375\n",
            "Epoch 94/100\n",
            "10/10 [==============================] - 0s 5ms/step - loss: 0.2297 - accuracy: 0.9094 - val_loss: 0.2625 - val_accuracy: 0.9250\n",
            "Epoch 95/100\n",
            "10/10 [==============================] - 0s 7ms/step - loss: 0.2292 - accuracy: 0.9125 - val_loss: 0.2642 - val_accuracy: 0.9250\n",
            "Epoch 96/100\n",
            "10/10 [==============================] - 0s 5ms/step - loss: 0.2288 - accuracy: 0.9094 - val_loss: 0.2627 - val_accuracy: 0.9250\n",
            "Epoch 97/100\n",
            "10/10 [==============================] - 0s 7ms/step - loss: 0.2288 - accuracy: 0.9125 - val_loss: 0.2626 - val_accuracy: 0.9250\n",
            "Epoch 98/100\n",
            "10/10 [==============================] - 0s 6ms/step - loss: 0.2289 - accuracy: 0.9094 - val_loss: 0.2623 - val_accuracy: 0.9375\n",
            "Epoch 99/100\n",
            "10/10 [==============================] - 0s 5ms/step - loss: 0.2286 - accuracy: 0.9156 - val_loss: 0.2616 - val_accuracy: 0.9250\n",
            "Epoch 100/100\n",
            "10/10 [==============================] - 0s 5ms/step - loss: 0.2287 - accuracy: 0.9125 - val_loss: 0.2630 - val_accuracy: 0.9250\n"
          ]
        }
      ],
      "source": [
        "model = Sequential()\n",
        "\n",
        "model.add(Dense(128,activation='relu',input_dim=2))\n",
        "model.add(Dense(1,activation='sigmoid'))\n",
        "\n",
        "model.compile(optimizer='adam',loss='binary_crossentropy',metrics=['accuracy'])\n",
        "\n",
        "history = model.fit(X_train_scaled,y_train,validation_data=(X_test_scaled,y_test),epochs=100)"
      ]
    },
    {
      "cell_type": "code",
      "execution_count": 23,
      "metadata": {
        "colab": {
          "base_uri": "https://localhost:8080/",
          "height": 283
        },
        "id": "InsXWldoAVWW",
        "outputId": "713d06f2-5f89-4818-9530-04c42cc33345"
      },
      "outputs": [
        {
          "data": {
            "text/plain": [
              "[<matplotlib.lines.Line2D at 0x20891e85c50>]"
            ]
          },
          "execution_count": 23,
          "metadata": {},
          "output_type": "execute_result"
        },
        {
          "data": {
            "image/png": "[encoded data removed]",
            "text/plain": [
              "<Figure size 640x480 with 1 Axes>"
            ]
          },
          "metadata": {},
          "output_type": "display_data"
        }
      ],
      "source": [
        "import matplotlib.pyplot as plt\n",
        "plt.plot(history.history['val_accuracy'])"
      ]
    },
    {
      "cell_type": "code",
      "execution_count": null,
      "metadata": {
        "id": "o_NJJT__Abp1"
      },
      "outputs": [],
      "source": []
    }
  ],
  "metadata": {
    "colab": {
      "provenance": []
    },
    "kernelspec": {
      "display_name": "Python 3",
      "name": "python3"
    },
    "language_info": {
      "codemirror_mode": {
        "name": "ipython",
        "version": 3
      },
      "file_extension": ".py",
      "mimetype": "text/x-python",
      "name": "python",
      "nbconvert_exporter": "python",
      "pygments_lexer": "ipython3",
      "version": "3.11.7"
    }
  },
  "nbformat": 4,
  "nbformat_minor": 0
}
